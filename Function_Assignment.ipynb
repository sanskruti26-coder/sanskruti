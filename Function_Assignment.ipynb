{
 "cells": [
  {
   "cell_type": "markdown",
   "id": "69aa2799-0231-4f9a-bb2c-dd860c5c8fa0",
   "metadata": {},
   "source": [
    "## Problem-1: Write a Python function that takes a list and returns a new list with unique elements of the first list."
   ]
  },
  {
   "cell_type": "code",
   "execution_count": null,
   "id": "1cfcc763-ebff-4bac-985e-d6244ece8fca",
   "metadata": {},
   "outputs": [],
   "source": [
    "Exercise 1:\n",
    "\n",
    "Input:\n",
    "[1,2,3,3,3,3,4,5]\n",
    "\n",
    "Output:\n",
    "[1, 2, 3, 4, 5]"
   ]
  },
  {
   "cell_type": "code",
   "execution_count": 1,
   "id": "42e22cd6-2864-4104-9655-f3c7b039f832",
   "metadata": {},
   "outputs": [
    {
     "name": "stdout",
     "output_type": "stream",
     "text": [
      "[1, 2, 3, 4, 5]\n"
     ]
    }
   ],
   "source": [
    "def unique_list(l):\n",
    "    x = []\n",
    "    \n",
    "    for a in l:\n",
    "    \n",
    "        if a not in x:\n",
    "        \n",
    "            x.append(a)\n",
    "    \n",
    "    return x\n",
    "\n",
    "print(unique_list([1, 2, 3, 3, 3, 3, 4, 5]))  \n"
   ]
  },
  {
   "cell_type": "markdown",
   "id": "01804807-5def-4f92-be42-4dfc9e6f6e65",
   "metadata": {},
   "source": [
    "## Problem-2: Write a Python function that accepts a hyphen-separated sequence of words as parameter and returns the words in a hyphen-separated sequence after sorting them alphabetically."
   ]
  },
  {
   "cell_type": "code",
   "execution_count": null,
   "id": "4261640e-53bf-4a7f-bf5b-c3e93eeab521",
   "metadata": {},
   "outputs": [],
   "source": [
    "Example 1:\n",
    "\n",
    "Input:\n",
    "green-red-yellow-black-white\n",
    "\n",
    "Output:\n",
    "black-green-red-white-yellow"
   ]
  },
  {
   "cell_type": "code",
   "execution_count": 2,
   "id": "22f8e52f-8a8e-47c3-8966-10c584d551d1",
   "metadata": {},
   "outputs": [
    {
     "name": "stdin",
     "output_type": "stream",
     "text": [
      " green-red yellow-black-white\n"
     ]
    },
    {
     "name": "stdout",
     "output_type": "stream",
     "text": [
      "black-green-red yellow-white\n"
     ]
    }
   ],
   "source": [
    "items = [n for n in input().split('-')]\n",
    "\n",
    "items.sort()\n",
    "\n",
    "print('-'.join(items)) \n"
   ]
  },
  {
   "cell_type": "markdown",
   "id": "b5913658-9ba7-435b-b8e9-b7601c957500",
   "metadata": {},
   "source": [
    "## Problem 3: Write a Python function that accepts a string and calculate the number of upper case letters and lower case letters."
   ]
  },
  {
   "cell_type": "code",
   "execution_count": null,
   "id": "0d542bd8-f850-4671-b9cc-f268a6ab8a75",
   "metadata": {},
   "outputs": [],
   "source": [
    "Sample String : 'CampusX is an Online Mentorship Program fOr EnginEering studentS.'\n",
    "Expected Output :\n",
    "No. of Upper case characters :  9\n",
    "No. of Lower case Characters :  47"
   ]
  },
  {
   "cell_type": "code",
   "execution_count": 9,
   "id": "cca97bd5-cb09-471c-be45-f9a8d10c7efa",
   "metadata": {},
   "outputs": [
    {
     "name": "stdout",
     "output_type": "stream",
     "text": [
      "Lower case characters = 47 Upper case characters = 9\n"
     ]
    }
   ],
   "source": [
    "def upperlower(string):\n",
    "\n",
    "\tupper = 0\n",
    "\tlower = 0\n",
    "\n",
    "\tfor i in range(len(string)):\n",
    "\t\t\n",
    "\t\tif (ord(string[i]) >= 97 and\n",
    "\t\t\tord(string[i]) <= 122):\n",
    "\t\t\tlower += 1\n",
    "\n",
    "\t\telif (ord(string[i]) >= 65 and\n",
    "\t\t\tord(string[i]) <= 90):\n",
    "\t\t\tupper += 1\n",
    "\n",
    "\tprint('Lower case characters = %s' %lower,\n",
    "\t\t'Upper case characters = %s' %upper)\n",
    "\n",
    "string = 'CampusX is an Online Mentorship Program fOr EnginEering studentS.'\n",
    "upperlower(string)\n"
   ]
  },
  {
   "cell_type": "markdown",
   "id": "7266ffb6-7047-4d80-8299-233852fd550b",
   "metadata": {},
   "source": [
    "## Problem 4: Write a Python program to print the even numbers from a given list."
   ]
  },
  {
   "cell_type": "code",
   "execution_count": null,
   "id": "42a1245d-c0ca-472f-9978-511383dfcd42",
   "metadata": {},
   "outputs": [],
   "source": [
    "Sample List : [1, 2, 3, 4, 5, 6, 7, 8, 9]\n",
    "Expected Result : [2, 4, 6, 8]"
   ]
  },
  {
   "cell_type": "code",
   "execution_count": 25,
   "id": "2f980cdb-f365-4e70-be63-93c9ceafda40",
   "metadata": {},
   "outputs": [
    {
     "name": "stdout",
     "output_type": "stream",
     "text": [
      "[2, 4, 6, 8]\n"
     ]
    }
   ],
   "source": [
    "def print_even_numbers(num_list):\n",
    "    even_numbers = [num for num in num_list if num % 2 == 0]\n",
    "    print(even_numbers)\n",
    "\n",
    "sample_list = [1, 2, 3, 4, 5, 6, 7, 8, 9]\n",
    "print_even_numbers(sample_list)\n",
    "\n"
   ]
  },
  {
   "cell_type": "markdown",
   "id": "22e34b28-cfef-4bf0-9bcb-7308011844c8",
   "metadata": {},
   "source": [
    "## Problem 5: Write a Python function to check whether a number is perfect or not.\n",
    "A Perfect number is a number that is half the sum of all of its positive divisors (including itself)."
   ]
  },
  {
   "cell_type": "code",
   "execution_count": null,
   "id": "d097e8b6-3254-4983-9e19-b12ad6aa0004",
   "metadata": {},
   "outputs": [],
   "source": [
    "Example :\n",
    "\n",
    "The first perfect number is 6, because 1, 2, and 3 are its proper positive divisors, and 1 + 2 + 3 = 6. \n",
    "Equivalently, the number 6 is equal to half the sum of all its positive divisors: ( 1 + 2 + 3 + 6 ) / 2 = 6. \n",
    "\n",
    "The next perfect number is 28 = 1 + 2 + 4 + 7 + 14. This is followed by the perfect numbers 496 and 8128.\n"
   ]
  },
  {
   "cell_type": "code",
   "execution_count": 23,
   "id": "2e315cbc-581c-44cb-a34e-9f5a4d20661d",
   "metadata": {},
   "outputs": [
    {
     "name": "stdout",
     "output_type": "stream",
     "text": [
      "Below are all perfect numbers till 10000\n",
      "6  is a perfect number\n",
      "28  is a perfect number\n",
      "496  is a perfect number\n",
      "8128  is a perfect number\n"
     ]
    }
   ],
   "source": [
    "def isPerfect( n ):\n",
    "\t\n",
    "\tsum = 1\n",
    "\t\n",
    "\ti = 2\n",
    "\twhile i * i <= n:\n",
    "\t\tif n % i == 0:\n",
    "\t\t\tsum = sum + i + n/i\n",
    "\t\ti += 1\n",
    "\t\n",
    "\treturn (True if sum == n and n!=1 else False)\n",
    "\n",
    "print(\"Below are all perfect numbers till 10000\")\n",
    "n = 2\n",
    "for n in range (10000):\n",
    "\tif isPerfect (n):\n",
    "\t\tprint(n , \" is a perfect number\")"
   ]
  },
  {
   "cell_type": "markdown",
   "id": "0ce1dafe-dca4-4afb-9196-57a1e7c5de44",
   "metadata": {},
   "source": [
    "## Problem-6: Write a Python function to concatenate any no of dictionaries to create a new one."
   ]
  },
  {
   "cell_type": "code",
   "execution_count": null,
   "id": "c142d98f-bbbd-4430-927e-e75beca14b0c",
   "metadata": {},
   "outputs": [],
   "source": [
    "Sample Dictionary :\n",
    "dic1={1:10, 2:20}\n",
    "dic2={3:30, 4:40}\n",
    "dic3={5:50,6:60}\n",
    "Expected Result : {1: 10, 2: 20, 3: 30, 4: 40, 5: 50, 6: 60}"
   ]
  },
  {
   "cell_type": "code",
   "execution_count": 24,
   "id": "24f89016-f714-4160-99df-b6f7fd955b16",
   "metadata": {},
   "outputs": [
    {
     "name": "stdout",
     "output_type": "stream",
     "text": [
      "{1: 10, 2: 20, 3: 30, 4: 40, 5: 50, 6: 60}\n"
     ]
    }
   ],
   "source": [
    "dic1 = {1: 10, 2: 20}\n",
    "dic2 = {3: 30, 4: 40}\n",
    "dic3 = {5: 50, 6: 60}\n",
    "\n",
    "dic4 = {}\n",
    "\n",
    "for d in (dic1, dic2, dic3):\n",
    "\n",
    "    dic4.update(d)\n",
    "\n",
    "print(dic4) \n"
   ]
  },
  {
   "cell_type": "markdown",
   "id": "8ba835d0-d65c-4ac1-8cf4-85f728a175a4",
   "metadata": {},
   "source": [
    "## Problem-7 Write a python function that accepts a string as input and returns the word with most occurence."
   ]
  },
  {
   "cell_type": "code",
   "execution_count": null,
   "id": "82f50b19-86b1-4169-b432-a4bf622073b0",
   "metadata": {},
   "outputs": [],
   "source": [
    "Input:\n",
    "hello how are you i am fine thank you\n",
    "Output\n",
    "you -> 2"
   ]
  },
  {
   "cell_type": "code",
   "execution_count": 1,
   "id": "d624ce76-29cf-42a2-b09e-7f756fd8a247",
   "metadata": {},
   "outputs": [
    {
     "name": "stdout",
     "output_type": "stream",
     "text": [
      "2\n"
     ]
    }
   ],
   "source": [
    "txt = \"hello how are you i am fine thank you\"\n",
    "x = txt.count(\"you\")\n",
    "\n",
    "print(x)"
   ]
  },
  {
   "cell_type": "markdown",
   "id": "77e836e9-52f8-4644-8663-c6542e12e3ae",
   "metadata": {},
   "source": [
    "## Problem-8 Write a python function that receives a list of integers and prints out a histogram of bin size 10"
   ]
  },
  {
   "cell_type": "code",
   "execution_count": null,
   "id": "bed344f0-095b-41fb-af28-86c3e3b3d588",
   "metadata": {},
   "outputs": [],
   "source": [
    "Input:\n",
    "[13,42,15,37,22,39,41,50]\n",
    "Output:\n",
    "{11-20:2,21-30:1,31-40:2,41-50:3}"
   ]
  },
  {
   "cell_type": "code",
   "execution_count": 2,
   "id": "c262cedc-1cbf-4ff8-a657-9fcebb934a82",
   "metadata": {},
   "outputs": [
    {
     "name": "stdout",
     "output_type": "stream",
     "text": [
      "{'11-20': 2, '21-30': 1, '31-40': 2, '41-50': 3}\n"
     ]
    }
   ],
   "source": [
    "x = [13,42,15,37,22,39,41,50]\n",
    "\n",
    "y = sorted(x)\n",
    "\n",
    "start = (y[0]//10)*10\n",
    "\n",
    "if y[-1]%10==0:\n",
    "  end = y[-1]\n",
    "else:\n",
    "  end = ((y[-1]//10)+1)*10\n",
    "\n",
    "dic = {}\n",
    "\n",
    "for i in range(start,end,10):\n",
    "  a = str(i+1)+'-'+str(i+10)\n",
    "  dic[a] = len([s for s in y if s>i and s<=(i+10)])\n",
    "    \n",
    "print(dic)"
   ]
  },
  {
   "cell_type": "markdown",
   "id": "18c60ac4-3c11-4f5a-ae54-0f25cb1bee13",
   "metadata": {},
   "source": [
    "## Problem-9 Write a python function that accepts a list of 2D co-ordinates and a query point, and then finds the the co-ordinate which is closest in terms of distance from the query point."
   ]
  },
  {
   "cell_type": "code",
   "execution_count": null,
   "id": "2cdb1e1d-d87d-4216-96f5-38ba15d233b2",
   "metadata": {},
   "outputs": [],
   "source": [
    "List of Coordinates\n",
    "[(1,1),(2,2),(3,3),(4,4)]\n",
    "Query Point\n",
    "(0,0)"
   ]
  },
  {
   "cell_type": "code",
   "execution_count": 24,
   "id": "1409e3ea-f590-4d9f-82a6-10ab170980b6",
   "metadata": {},
   "outputs": [
    {
     "name": "stdout",
     "output_type": "stream",
     "text": [
      "(1, 1)\n"
     ]
    }
   ],
   "source": [
    "import math\n",
    "\n",
    "def find_closest_point(coordinates, query_point):\n",
    "    def distance(point1, point2):\n",
    "        return math.sqrt((point1[0] - point2[0])**2 + (point1[1] - point2[1])**2)\n",
    "\n",
    "    return min(coordinates, key=lambda point: distance(point, query_point))\n",
    "\n",
    "coordinates = [(1,1),(2,2),(3,3),(4,4)]\n",
    "query_point = (0,0)\n",
    "\n",
    "print(find_closest_point(coordinates, query_point))  \n",
    "\n"
   ]
  },
  {
   "cell_type": "markdown",
   "id": "3362a527-9b65-4e57-a5b1-2fbc2bf10ec6",
   "metadata": {},
   "source": [
    "## Problem-10:Write a python program that receives a list of strings and performs bag of word operation on those strings\n",
    "\n",
    "https://en.wikipedia.org/wiki/Bag-of-words_model"
   ]
  },
  {
   "cell_type": "code",
   "execution_count": 19,
   "id": "a828ce21-3f3d-404e-9569-b105d5cd596b",
   "metadata": {},
   "outputs": [
    {
     "name": "stdout",
     "output_type": "stream",
     "text": [
      "[{'this': 1, 'is': 1, 'a': 1, 'test': 1, 'sentence': 1}, {'another': 1, 'test': 1, 'sentence': 1}, {'this': 1, 'is': 1, 'a': 1, 'different': 1, 'sentence': 1}]\n"
     ]
    }
   ],
   "source": [
    "from collections import Counter\n",
    "import re\n",
    "\n",
    "def bag_of_words(text_list):\n",
    "    # Initialize an empty list to store the bag of words for each text\n",
    "    bag_of_words_list = []\n",
    "    \n",
    "    # Loop through each text in the list\n",
    "    for text in text_list:\n",
    "        # Convert the text to lower case and remove punctuation\n",
    "        text = re.sub(r'[^\\w\\s]', '', text.lower())\n",
    "        \n",
    "        # Split the text into words\n",
    "        words = text.split()\n",
    "        \n",
    "        # Count the frequency of each word\n",
    "        word_freq = Counter(words)\n",
    "        \n",
    "        # Append the word frequency to the list\n",
    "        bag_of_words_list.append(dict(word_freq))\n",
    "    \n",
    "    return bag_of_words_list\n",
    "\n",
    "# Test the function\n",
    "text_list = [\"This is a test sentence\", \"Another test sentence\", \"This is a different sentence\"]\n",
    "print(bag_of_words(text_list))\n",
    "\n",
    "\n"
   ]
  },
  {
   "cell_type": "markdown",
   "id": "ba130358-1221-421f-921b-9fba3944f63b",
   "metadata": {},
   "source": [
    "## Problem 11: Write a Python program to add three given lists using Python map and lambda.\n"
   ]
  },
  {
   "cell_type": "code",
   "execution_count": 16,
   "id": "19779f6a-cef6-42bc-ae4c-3924be386cdd",
   "metadata": {},
   "outputs": [
    {
     "name": "stdout",
     "output_type": "stream",
     "text": [
      "Original list:\n",
      "[1, 2, 3]\n",
      "[4, 5, 6]\n",
      "[7, 8, 9]\n",
      "\n",
      "New list after adding above three lists:\n",
      "[12, 15, 18]\n"
     ]
    }
   ],
   "source": [
    "nums1 = [1, 2, 3]\n",
    "nums2 = [4, 5, 6]\n",
    "nums3 = [7, 8, 9]\n",
    "\n",
    "print(\"Original list:\")\n",
    "print(nums1)\n",
    "print(nums2)\n",
    "print(nums3)\n",
    "\n",
    "result = map(lambda x, y, z: x + y + z, nums1, nums2, nums3)\n",
    "\n",
    "print(\"\\nNew list after adding above three lists:\")\n",
    "print(list(result))\n",
    "\n"
   ]
  },
  {
   "cell_type": "markdown",
   "id": "66a13624-7a3c-449c-88ca-620bed9651a4",
   "metadata": {},
   "source": [
    "## Problem-12:Write a Python program to create a list containing the power of said number in bases raised to the corresponding number in the index using Python map."
   ]
  },
  {
   "cell_type": "code",
   "execution_count": null,
   "id": "3bc09f73-2023-48d5-89f5-67e38f2cd137",
   "metadata": {},
   "outputs": [],
   "source": [
    "Input:\n",
    "\n",
    "list1 = [1,2,3,4,5,6]\n",
    "Output:\n",
    "\n",
    "[1,2,9,64,625,-]"
   ]
  },
  {
   "cell_type": "code",
   "execution_count": 15,
   "id": "546e8d82-f307-4920-a47c-e689acac80f8",
   "metadata": {},
   "outputs": [
    {
     "name": "stdout",
     "output_type": "stream",
     "text": [
      "The original list is : [1, 2, 3, 4, 5, 6]\n",
      "Powered elements : [1, 2, 9, 64, 625, 7776]\n"
     ]
    }
   ],
   "source": [
    "test_list = [1,2,3,4,5,6]\n",
    "\n",
    "print(\"The original list is : \" + str(test_list))\n",
    "\n",
    "res = []\n",
    "\n",
    "for idx, ele in enumerate(test_list):\n",
    "        res.append(ele ** idx)\n",
    "\n",
    "print(\"Powered elements : \" + str(res))\n"
   ]
  },
  {
   "cell_type": "markdown",
   "id": "81478351-0301-4e86-894d-d7ee8263acf6",
   "metadata": {},
   "source": [
    "## Problem-13 Using filter() and list() functions and .lower() method filter all the vowels in a given string.\n"
   ]
  },
  {
   "cell_type": "code",
   "execution_count": 7,
   "id": "3be8d471-dab2-4313-910c-eb81a3fe3dcf",
   "metadata": {},
   "outputs": [
    {
     "name": "stdout",
     "output_type": "stream",
     "text": [
      "The filtered vowels are:\n",
      "a\n",
      "e\n",
      "i\n",
      "o\n"
     ]
    }
   ],
   "source": [
    "letters = ['a', 'b', 'd', 'e', 'i', 'j', 'o']\n",
    "\n",
    "def filter_vowels(letter):\n",
    "\n",
    "    vowels = ['a', 'e', 'i', 'o', 'u']\n",
    "\n",
    "    if(letter in vowels):\n",
    "\n",
    "        return True\n",
    "\n",
    "    else:\n",
    "\n",
    "        return False\n",
    "\n",
    "filtered_vowels = filter(filter_vowels, letters)\n",
    "\n",
    "print('The filtered vowels are:')\n",
    "\n",
    "for vowel in filtered_vowels:\n",
    "\n",
    "    print(vowel)\n",
    "\n"
   ]
  },
  {
   "cell_type": "markdown",
   "id": "036db711-977b-478d-bbdb-eef20978abb0",
   "metadata": {},
   "source": [
    "## Problem-14: Use reduce to convert a 2D list to 1D"
   ]
  },
  {
   "cell_type": "code",
   "execution_count": 8,
   "id": "01294dd1-5dab-4bd9-8d99-71d132cfc459",
   "metadata": {},
   "outputs": [
    {
     "name": "stdout",
     "output_type": "stream",
     "text": [
      "initial list  [[1, 2, 3], [3, 6, 7], [7, 5, 4]]\n",
      "final_result [1, 2, 3, 3, 6, 7, 7, 5, 4]\n"
     ]
    }
   ],
   "source": [
    "from itertools import chain\n",
    "\n",
    "ini_list = [[1, 2, 3],[3, 6, 7],[7, 5, 4]]\n",
    "\t\t\t\n",
    "print (\"initial list \", str(ini_list))\n",
    "\n",
    "flatten_list = list(chain.from_iterable(ini_list))\n",
    "\n",
    "print (\"final_result\", str(flatten_list))\n"
   ]
  },
  {
   "cell_type": "markdown",
   "id": "6e5693af-ae1f-474d-b206-cf821b403c89",
   "metadata": {},
   "source": [
    "## Problem 15- A dictionary contains following information about 5 employees:\n",
    "\n",
    "First name\n",
    "Last name\n",
    "Age\n",
    "Grade(Skilled,Semi-skilled,Highly skilled)\n",
    "Write a program using map/filter/reduce to a list of employees(first name + last name) who are highly skilled"
   ]
  },
  {
   "cell_type": "code",
   "execution_count": null,
   "id": "0ef5bcb3-8b71-4d71-85a6-4be92216067c",
   "metadata": {},
   "outputs": [],
   "source": [
    "employees = [\n",
    "    {\n",
    "        'fname':'Nitish',\n",
    "        'lname':'Singh',\n",
    "        'age' : 33,\n",
    "        'grade':'skilled'\n",
    "    },\n",
    "    {\n",
    "        'fname':'Ankit',\n",
    "        'lname':'Verma',\n",
    "        'age' : 34,\n",
    "        'grade':'semi-skilled'\n",
    "    },\n",
    "    {\n",
    "        'fname':'Neha',\n",
    "        'lname':'Singh',\n",
    "        'age' : 35,\n",
    "        'grade':'highly-skilled'\n",
    "    },\n",
    "    {\n",
    "        'fname':'Anurag',\n",
    "        'lname':'Kumar',\n",
    "        'age' : 30,\n",
    "        'grade':'skilled'\n",
    "    },\n",
    "    {\n",
    "        'fname':'Abhinav',\n",
    "        'lname':'Sharma',\n",
    "        'age' : 37,\n",
    "        'grade':'highly-skilled'\n",
    "    }\n",
    "    \n",
    "]"
   ]
  },
  {
   "cell_type": "code",
   "execution_count": null,
   "id": "04712625-e0ac-43f2-be99-1d002b321936",
   "metadata": {},
   "outputs": [],
   "source": [
    "list(map(lambda x:x['fname'] + ' ' + x['lname'],list(filter(lambda x:True if x['grade'] == 'highly-skilled' else False,employees))))"
   ]
  },
  {
   "cell_type": "code",
   "execution_count": null,
   "id": "f661c522-7989-44ba-bedf-0c1b6fff0335",
   "metadata": {},
   "outputs": [],
   "source": [
    "['Neha Singh', 'Abhinav Sharma']"
   ]
  },
  {
   "cell_type": "code",
   "execution_count": 21,
   "id": "3ad4ce3f-69eb-416e-9f5f-ac0d92aaa033",
   "metadata": {},
   "outputs": [
    {
     "name": "stdout",
     "output_type": "stream",
     "text": [
      "['Neha Singh', 'Abhinav Sharma']\n"
     ]
    }
   ],
   "source": [
    "employees = [\n",
    "    {\n",
    "        'fname':'Nitish',\n",
    "        'lname':'Singh',\n",
    "        'age' : 33,\n",
    "        'grade':'skilled'\n",
    "    },\n",
    "    {\n",
    "        'fname':'Ankit',\n",
    "        'lname':'Verma',\n",
    "        'age' : 34,\n",
    "        'grade':'semi-skilled'\n",
    "    },\n",
    "    {\n",
    "        'fname':'Neha',\n",
    "        'lname':'Singh',\n",
    "        'age' : 35,\n",
    "        'grade':'highly-skilled'\n",
    "    },\n",
    "     {\n",
    "        'fname':'Anurag',\n",
    "        'lname':'Kumar',\n",
    "        'age' : 30,\n",
    "        'grade':'skilled'\n",
    "    },\n",
    "    {\n",
    "        'fname':'Abhinav',\n",
    "        'lname':'Sharma',\n",
    "        'age' : 37,\n",
    "        'grade':'highly-skilled'\n",
    "    }\n",
    "    \n",
    "]\n",
    "highly_skilled_employees = list(map(lambda x: x['fname'] + ' ' + x['lname'], list(filter(lambda x: True if x['grade'] == 'highly-skilled' else False, employees))))\n",
    "\n",
    "print(highly_skilled_employees)\n"
   ]
  },
  {
   "cell_type": "code",
   "execution_count": null,
   "id": "ae4b187a-b758-48d2-8710-df47b18ec63c",
   "metadata": {},
   "outputs": [],
   "source": []
  }
 ],
 "metadata": {
  "kernelspec": {
   "display_name": "Python 3 (ipykernel)",
   "language": "python",
   "name": "python3"
  },
  "language_info": {
   "codemirror_mode": {
    "name": "ipython",
    "version": 3
   },
   "file_extension": ".py",
   "mimetype": "text/x-python",
   "name": "python",
   "nbconvert_exporter": "python",
   "pygments_lexer": "ipython3",
   "version": "3.11.7"
  }
 },
 "nbformat": 4,
 "nbformat_minor": 5
}
