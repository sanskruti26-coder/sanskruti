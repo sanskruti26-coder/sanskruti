{
 "cells": [
  {
   "cell_type": "markdown",
   "id": "1b999d7d-4c5a-4d6e-9076-1540996fe534",
   "metadata": {},
   "source": [
    "**1)find the length of given string(given by user)without using len()function**\n"
   ]
  },
  {
   "cell_type": "code",
   "execution_count": 8,
   "id": "49bb2484-bdbb-48de-a21d-901566348649",
   "metadata": {},
   "outputs": [
    {
     "name": "stdin",
     "output_type": "stream",
     "text": [
      "enter you string good morning\n"
     ]
    },
    {
     "name": "stdout",
     "output_type": "stream",
     "text": [
      "length of string is  12\n"
     ]
    }
   ],
   "source": [
    "str1=input(\"enter you string\")\n",
    "\n",
    "count=0\n",
    "for i in str1:\n",
    "    count +=1\n",
    "print(\"length of string is \",count)"
   ]
  },
  {
   "cell_type": "markdown",
   "id": "5571b627-2ca8-415e-b8d7-8d8d9d0a1431",
   "metadata": {},
   "source": [
    "**2)extract user id from given mail i'd. eg:if the mail is sanskrutipandav@gmail.com then user name should be\"sanskrutipandav\"**"
   ]
  },
  {
   "cell_type": "code",
   "execution_count": 4,
   "id": "0bc9dc3b-634f-40d4-bb6d-b8e030ca667d",
   "metadata": {},
   "outputs": [
    {
     "name": "stdin",
     "output_type": "stream",
     "text": [
      "enter your mail_id sanskrutipandav@gmail.com\n"
     ]
    },
    {
     "name": "stdout",
     "output_type": "stream",
     "text": [
      "sanskrutipandav\n"
     ]
    }
   ],
   "source": [
    "str = input(\"enter your mail_id\")\n",
    "poss = str.index(\"@\")\n",
    "print(str[0:poss])\n"
   ]
  },
  {
   "cell_type": "markdown",
   "id": "525c14cc-7c71-49e3-9ed3-d98264b3a521",
   "metadata": {},
   "source": [
    "**3)count the frequency of perticular character in provide string.eg:\"hello how are you\" is the string,the frequency of \"h\" in this string is 2 without using count function**"
   ]
  },
  {
   "cell_type": "code",
   "execution_count": 10,
   "id": "d6291a93-5738-4042-98f2-79554e70e7c2",
   "metadata": {},
   "outputs": [
    {
     "name": "stdin",
     "output_type": "stream",
     "text": [
      "enter your string hello how are you\n",
      "what would like to search o\n"
     ]
    },
    {
     "name": "stdout",
     "output_type": "stream",
     "text": [
      "frequence of your char 3\n"
     ]
    }
   ],
   "source": [
    "s=input(\"enter your string\")\n",
    "term=input(\"what would like to search\")\n",
    "\n",
    "counter=0\n",
    "for i in s:\n",
    "    if i==term:\n",
    "        counter+=1\n",
    "print(\"frequence of your char\",counter)        "
   ]
  },
  {
   "cell_type": "markdown",
   "id": "5a347af4-0f5f-45f8-af20-a26b86db9510",
   "metadata": {},
   "source": [
    "**4)write a program which can remove a particaluar character from string**"
   ]
  },
  {
   "cell_type": "code",
   "execution_count": 11,
   "id": "4edef871-dddd-4f2f-881e-b23b8b8bedba",
   "metadata": {},
   "outputs": [
    {
     "name": "stdin",
     "output_type": "stream",
     "text": [
      "enter your string hello how are you\n",
      "what you want to remove o\n"
     ]
    },
    {
     "name": "stdout",
     "output_type": "stream",
     "text": [
      "hell hw are yu\n"
     ]
    }
   ],
   "source": [
    "s=input(\"enter your string\")\n",
    "term=input(\"what you want to remove\")\n",
    "\n",
    "result=\"\"\n",
    "\n",
    "for i in s:\n",
    "      if i !=term:\n",
    "          result=result+i\n",
    "print(result)          \n",
    "          "
   ]
  },
  {
   "cell_type": "markdown",
   "id": "195695c3-1927-4b62-baaa-b520b56ce51b",
   "metadata": {},
   "source": [
    "**5)write a program that can check whether a given string is palindrome or not**\n",
    "**(abba,malyalam)**"
   ]
  },
  {
   "cell_type": "code",
   "execution_count": 39,
   "id": "c2628565-d6c1-4130-94d6-056b8291062a",
   "metadata": {},
   "outputs": [
    {
     "name": "stdin",
     "output_type": "stream",
     "text": [
      "enter your string abba\n",
      "enter your string malyalam\n"
     ]
    },
    {
     "name": "stdout",
     "output_type": "stream",
     "text": [
      "is not palindrome\n"
     ]
    }
   ],
   "source": [
    "str=(input(\"enter your string\"))\n",
    "if str==str1[::-1]:\n",
    "    print(\"is a palindrome\")\n",
    "else:\n",
    "    print(\"is not palindrome\")\n",
    "    "
   ]
  },
  {
   "cell_type": "markdown",
   "id": "22b66588-b897-49c2-bd24-caca70408a9c",
   "metadata": {},
   "source": [
    "**6)write a program to count the number of words in a string without using a split()**\n"
   ]
  },
  {
   "cell_type": "code",
   "execution_count": 7,
   "id": "3d51a84d-7f1f-491b-ae6f-23cacf711dbc",
   "metadata": {},
   "outputs": [
    {
     "name": "stdout",
     "output_type": "stream",
     "text": [
      "good morning all of you\n",
      "1\n",
      "2\n",
      "3\n",
      "4\n"
     ]
    }
   ],
   "source": [
    "str=(\"good morning all of you\")\n",
    "def countW(str):\n",
    "    print(str)\n",
    "    word=0\n",
    "    for i in str:\n",
    "        if i==\" \":\n",
    "            word=word+1\n",
    "            print(word)\n",
    "countW(str)            "
   ]
  },
  {
   "cell_type": "markdown",
   "id": "55f0b611-940c-4147-bcd8-d4aa5a8357ba",
   "metadata": {},
   "source": [
    "**7)write a python program to convert a string to title case without using the title()**"
   ]
  },
  {
   "cell_type": "code",
   "execution_count": 16,
   "id": "f9927d10-3f62-44f0-a004-6762c5a38f9a",
   "metadata": {},
   "outputs": [
    {
     "name": "stdout",
     "output_type": "stream",
     "text": [
      "['SaNsKruTi', 'PaNdAv']\n"
     ]
    }
   ],
   "source": [
    "str=(\"SaNsKruTi PaNdAv\")  \n",
    "str1=str.split()\n",
    "print(str1)"
   ]
  },
  {
   "cell_type": "code",
   "execution_count": null,
   "id": "76f30820-ad76-4283-b7c2-0d7c26b13316",
   "metadata": {},
   "outputs": [],
   "source": []
  }
 ],
 "metadata": {
  "kernelspec": {
   "display_name": "Python 3 (ipykernel)",
   "language": "python",
   "name": "python3"
  },
  "language_info": {
   "codemirror_mode": {
    "name": "ipython",
    "version": 3
   },
   "file_extension": ".py",
   "mimetype": "text/x-python",
   "name": "python",
   "nbconvert_exporter": "python",
   "pygments_lexer": "ipython3",
   "version": "3.11.7"
  },
  "widgets": {
   "application/vnd.jupyter.widget-state+json": {
    "state": {},
    "version_major": 2,
    "version_minor": 0
   }
  }
 },
 "nbformat": 4,
 "nbformat_minor": 5
}
