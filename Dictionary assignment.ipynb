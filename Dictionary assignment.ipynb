{
 "cells": [
  {
   "cell_type": "markdown",
   "id": "5848f45a-fb08-4fba-9c74-042e4333c319",
   "metadata": {},
   "source": [
    "**1)key with maximum unique values in python**"
   ]
  },
  {
   "cell_type": "code",
   "execution_count": 4,
   "id": "b8d01043-991d-4563-9c3c-a51b3ae85be0",
   "metadata": {},
   "outputs": [
    {
     "name": "stdout",
     "output_type": "stream",
     "text": [
      "CampusX\n"
     ]
    }
   ],
   "source": [
    "def max_unique_keys(test_dict):\n",
    "    max_key=max(test_dict,key=lambda k:len(set(test_dict[k])))\n",
    "    return max_key\n",
    "    \n",
    "    test_dict={\"CampusX\":[5,7,9,4,0],\"is\":[6,7,4,3,3],\"Best\":[9,9,6,5,5]}\n",
    "print(max_unique_keys(test_dict))"
   ]
  },
  {
   "cell_type": "markdown",
   "id": "5b452cba-abb5-4393-b05f-646f057cdc63",
   "metadata": {},
   "source": [
    "**2)replace words from dictionary. given string,replace it's words from lookup dictionary**"
   ]
  },
  {
   "cell_type": "code",
   "execution_count": 18,
   "id": "247df730-7526-490c-9bac-e95ef0b6e4b0",
   "metadata": {},
   "outputs": [
    {
     "ename": "NameError",
     "evalue": "name 'replace_words' is not defined",
     "output_type": "error",
     "traceback": [
      "\u001b[1;31m---------------------------------------------------------------------------\u001b[0m",
      "\u001b[1;31mNameError\u001b[0m                                 Traceback (most recent call last)",
      "Cell \u001b[1;32mIn[18], line 3\u001b[0m\n\u001b[0;32m      1\u001b[0m test_str\u001b[38;5;241m=\u001b[39m\u001b[38;5;124m'\u001b[39m\u001b[38;5;124mCampusX best for DS students.\u001b[39m\u001b[38;5;124m'\u001b[39m\n\u001b[0;32m      2\u001b[0m repl_dict\u001b[38;5;241m=\u001b[39m{\u001b[38;5;124m\"\u001b[39m\u001b[38;5;124mbest\u001b[39m\u001b[38;5;124m\"\u001b[39m:\u001b[38;5;124m\"\u001b[39m\u001b[38;5;124mis the best channel\u001b[39m\u001b[38;5;124m\"\u001b[39m,\u001b[38;5;124m\"\u001b[39m\u001b[38;5;124mDS\u001b[39m\u001b[38;5;124m\"\u001b[39m:\u001b[38;5;124m\"\u001b[39m\u001b[38;5;124mdata-science\u001b[39m\u001b[38;5;124m\"\u001b[39m}\n\u001b[1;32m----> 3\u001b[0m \u001b[38;5;28mprint\u001b[39m(replace_words(test_str,repl_dict))\n",
      "\u001b[1;31mNameError\u001b[0m: name 'replace_words' is not defined"
     ]
    }
   ],
   "source": [
    "def replace_words(test_str,repl_dict):\n",
    "for word,replacement in repl_dict():\n",
    "    string=test.replace(word,replace\n",
    "    test_str='CampusX best for DS students.'\n",
    "repl_dict={\"best\":\"is the best channel\",\"DS\":\"data-science\"}\n",
    "print(replace_words(test_str,repl_dict))\n"
   ]
  },
  {
   "cell_type": "code",
   "execution_count": null,
   "id": "26d6b73f-c2f7-46a2-a84e-42a238b5e496",
   "metadata": {},
   "outputs": [],
   "source": []
  }
 ],
 "metadata": {
  "kernelspec": {
   "display_name": "Python 3 (ipykernel)",
   "language": "python",
   "name": "python3"
  },
  "language_info": {
   "codemirror_mode": {
    "name": "ipython",
    "version": 3
   },
   "file_extension": ".py",
   "mimetype": "text/x-python",
   "name": "python",
   "nbconvert_exporter": "python",
   "pygments_lexer": "ipython3",
   "version": "3.11.7"
  },
  "widgets": {
   "application/vnd.jupyter.widget-state+json": {
    "state": {},
    "version_major": 2,
    "version_minor": 0
   }
  }
 },
 "nbformat": 4,
 "nbformat_minor": 5
}
