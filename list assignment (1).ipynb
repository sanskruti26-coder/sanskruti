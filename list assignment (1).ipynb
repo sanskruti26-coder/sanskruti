{
 "cells": [
  {
   "cell_type": "markdown",
   "id": "56a70776-9f10-4b4b-9937-32488a6663b9",
   "metadata": {},
   "source": [
    "**1)create 2 list from a given list where 1st list will contain all the odd numbers from the original list and the 2nd one will contain all the even numbers L=[1,2,3,4,5,6]**"
   ]
  },
  {
   "cell_type": "code",
   "execution_count": 16,
   "id": "ef3ac1d8-8540-4b8f-a1b4-feb3925cd65d",
   "metadata": {},
   "outputs": [
    {
     "name": "stdout",
     "output_type": "stream",
     "text": [
      "List1:      [1, 2, 3, 4, 5, 6]\n",
      "Listeven:   [2]\n",
      "Listodd:    [1, 3]\n"
     ]
    }
   ],
   "source": [
    "List1=[1,2,3,4,5,6]\n",
    "Listodd=[]\n",
    "Listeven=[]\n",
    "for num in L1:\n",
    "    if num%2==0:\n",
    "        Listeven.append(num)\n",
    "    else:\n",
    "       Listodd.append(num)\n",
    "print(\"List1:     \", List1)\n",
    "print(\"Listeven:  \", Listeven)\n",
    "print(\"Listodd:   \", Listodd)\n",
    "    \n",
    "\n"
   ]
  },
  {
   "cell_type": "markdown",
   "id": "5b8ca381-b8c4-4ad2-b038-2fc94630bb99",
   "metadata": {},
   "source": [
    "**2)how to take list as input from user**"
   ]
  },
  {
   "cell_type": "code",
   "execution_count": 23,
   "id": "bb9b57f5-82bd-4456-ab7c-0f8d0a9c6692",
   "metadata": {},
   "outputs": [
    {
     "name": "stdout",
     "output_type": "stream",
     "text": [
      "[1, 2, 3, 4, 5, 6, 7, 8, 9, 10]\n"
     ]
    }
   ],
   "source": [
    "L=[]\n",
    "for i in range(1,11):\n",
    "    L.append(i)\n",
    "print(L)\n",
    "    "
   ]
  },
  {
   "cell_type": "markdown",
   "id": "06b3594f-4106-4b8e-93fc-098083d14d97",
   "metadata": {},
   "source": [
    "**3)write a program to merge 2 list without using the + operator\n",
    "L1=[1,2,3,4]\n",
    "L2=[5,6,7,8]**"
   ]
  },
  {
   "cell_type": "code",
   "execution_count": 38,
   "id": "753adfa6-b14d-4804-ab20-a48c9912b4a0",
   "metadata": {},
   "outputs": [
    {
     "data": {
      "text/plain": [
       "[1, 2, 3, 4, 5, 6, 7, 8]"
      ]
     },
     "execution_count": 38,
     "metadata": {},
     "output_type": "execute_result"
    }
   ],
   "source": [
    "L=[1,2,3,4]\n",
    "L.extend([5,6,7,8])\n",
    "L"
   ]
  },
  {
   "cell_type": "markdown",
   "id": "e7a46db4-a417-42af-83d3-f46525b8ff6d",
   "metadata": {},
   "source": [
    "**4)write a program to replace an item with a different item if found in the list L=[1,2,3,4,5,3] #replace 3 with 300**"
   ]
  },
  {
   "cell_type": "code",
   "execution_count": 39,
   "id": "3760b246-50ae-46f1-8106-53805690b72a",
   "metadata": {},
   "outputs": [
    {
     "data": {
      "text/plain": [
       "[1, 2, 3, 4, 5, 300]"
      ]
     },
     "execution_count": 39,
     "metadata": {},
     "output_type": "execute_result"
    }
   ],
   "source": [
    "L=[1,2,3,4,5,3]\n",
    "L[-1]=300\n",
    "L"
   ]
  },
  {
   "cell_type": "markdown",
   "id": "b6fc9fd2-1619-4888-af7c-087d46b01e0f",
   "metadata": {},
   "source": [
    "**5)write a program that can convert a 2D list to 1D list**"
   ]
  },
  {
   "cell_type": "code",
   "execution_count": 4,
   "id": "8cbede4d-1d98-4496-9181-3581fc5ea3b0",
   "metadata": {},
   "outputs": [
    {
     "name": "stdout",
     "output_type": "stream",
     "text": [
      "[1, 2, 3, 4, [5, 6], [7, 8]]\n",
      "[1, 2, 3, 4, 5]\n"
     ]
    }
   ],
   "source": [
    "L=[1,2,3,4,[5,6],[7,8]]\n",
    "print(L)\n",
    "L1=[1,2,3,4,5]\n",
    "print(L1)"
   ]
  },
  {
   "cell_type": "markdown",
   "id": "ec5192aa-15d3-4541-9a5c-156a9396bf3d",
   "metadata": {},
   "source": [
    "**6)write a program to remove duplicate items from a list L=[1,2,1,2,3,4,5,3,4]**"
   ]
  },
  {
   "cell_type": "code",
   "execution_count": 1,
   "id": "267bfb7b-26c7-43e6-8433-43c4ed1a6efb",
   "metadata": {},
   "outputs": [
    {
     "name": "stdout",
     "output_type": "stream",
     "text": [
      "{1, 2, 3, 4, 5}\n"
     ]
    }
   ],
   "source": [
    "L=[1,2,1,2,3,4,5,3,4]\n",
    "dup_items=set()\n",
    "uniq_items=[]\n",
    "for i in L:\n",
    "    if i not in dup_items:\n",
    "        uniq_items.append(i)\n",
    "        dup_items.add(i)\n",
    "print(dup_items)        "
   ]
  },
  {
   "cell_type": "markdown",
   "id": "9a38ec64-6cb4-44d1-b8de-02f4a3c28bfd",
   "metadata": {},
   "source": [
    "**7)write a program to check if a list is in ascending order or not**"
   ]
  },
  {
   "cell_type": "code",
   "execution_count": 11,
   "id": "fd9ac562-9305-4ad7-8b5e-b083f1d45074",
   "metadata": {},
   "outputs": [
    {
     "name": "stdout",
     "output_type": "stream",
     "text": [
      " is a ascending order\n"
     ]
    }
   ],
   "source": [
    "L=[2,3,]\n",
    "a=0\n",
    "for i in range(0,len(L)-1):\n",
    "    if L[i]>=L[i+1]:\n",
    "        a=1\n",
    "        break\n",
    "if a==0:    \n",
    "    print(\" is a ascending order\")\n",
    "else:\n",
    "    print(\" is not a ascending order\")"
   ]
  },
  {
   "cell_type": "code",
   "execution_count": null,
   "id": "4b22d057-dcc9-4b61-ace7-c0456b07b998",
   "metadata": {},
   "outputs": [],
   "source": []
  }
 ],
 "metadata": {
  "kernelspec": {
   "display_name": "Python 3 (ipykernel)",
   "language": "python",
   "name": "python3"
  },
  "language_info": {
   "codemirror_mode": {
    "name": "ipython",
    "version": 3
   },
   "file_extension": ".py",
   "mimetype": "text/x-python",
   "name": "python",
   "nbconvert_exporter": "python",
   "pygments_lexer": "ipython3",
   "version": "3.11.7"
  },
  "widgets": {
   "application/vnd.jupyter.widget-state+json": {
    "state": {},
    "version_major": 2,
    "version_minor": 0
   }
  }
 },
 "nbformat": 4,
 "nbformat_minor": 5
}
