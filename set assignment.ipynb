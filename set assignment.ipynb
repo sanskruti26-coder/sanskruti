{
 "cells": [
  {
   "cell_type": "markdown",
   "id": "c2988d48-1abb-4709-a5a5-07468f9862ee",
   "metadata": {},
   "source": [
    "**1)write a program to find set of common elements in three lists using sets**"
   ]
  },
  {
   "cell_type": "code",
   "execution_count": 4,
   "id": "06133bbf-d2af-4755-813b-1fb91e4981fa",
   "metadata": {},
   "outputs": [
    {
     "data": {
      "text/plain": [
       "{20, 80}"
      ]
     },
     "execution_count": 4,
     "metadata": {},
     "output_type": "execute_result"
    }
   ],
   "source": [
    "s1={1,5,10,20,40,80}\n",
    "s2={6,7,20,80,100}\n",
    "s3={3,4,15,20,30,70,80,120}\n",
    "\n",
    "s1.intersection(s2)\n",
    "s2.intersection(s3)"
   ]
  },
  {
   "cell_type": "markdown",
   "id": "28456332-e42d-4d94-b828-8783667746ff",
   "metadata": {},
   "source": [
    "**2)write a program to count unique number of vowels using sets in a given string.lowercase and uppercase vowels will be taken as different**"
   ]
  },
  {
   "cell_type": "code",
   "execution_count": 1,
   "id": "ad638e97-69c7-4ae9-bce1-dc3c49c23bd7",
   "metadata": {},
   "outputs": [
    {
     "name": "stdin",
     "output_type": "stream",
     "text": [
      "enter your string a\n"
     ]
    },
    {
     "name": "stdout",
     "output_type": "stream",
     "text": [
      "/nRemoving vowels from the given string\n",
      "new string after successfully removed all the vowels:\n",
      "\n"
     ]
    }
   ],
   "source": [
    "string=(input(\"enter your string\"))\n",
    "if string=='x':\n",
    "    exit();\n",
    "else:\n",
    "    newstr= string;\n",
    "    print(\"/nRemoving vowels from the given string\");\n",
    "    vowels=('a','e','i','o','u');\n",
    "    for x in string.lower():\n",
    "        if x in vowels:\n",
    "            newstr=newstr.replace(x,\"\");\n",
    "            print(\"new string after successfully removed all the vowels:\");\n",
    "            print(newstr);"
   ]
  },
  {
   "cell_type": "markdown",
   "id": "83b9c016-96dc-4ece-b20d-281b876a54db",
   "metadata": {},
   "source": [
    "**3) write a program to check if a given string is binary of or not**"
   ]
  },
  {
   "cell_type": "code",
   "execution_count": 56,
   "id": "92a40853-00d5-4338-aa69-96493e0db9f9",
   "metadata": {},
   "outputs": [
    {
     "name": "stdout",
     "output_type": "stream",
     "text": [
      "yes\n"
     ]
    }
   ],
   "source": [
    "string=\"01010101010\"\n",
    "if(string.count('0')+string.count('1')==len(string)):\n",
    "    print(\"yes\")\n",
    "else:\n",
    "    print(\"no\")\n"
   ]
  },
  {
   "cell_type": "markdown",
   "id": "e8386a2f-1b3d-43ee-80b9-f4f8ab39c91e",
   "metadata": {},
   "source": [
    "**4)find union of n arrays**"
   ]
  },
  {
   "cell_type": "code",
   "execution_count": 63,
   "id": "9b23ebb1-f3f3-4a27-ae80-8952972376d0",
   "metadata": {},
   "outputs": [
    {
     "name": "stdout",
     "output_type": "stream",
     "text": [
      "[1, 2, 3, 4, 5, 6, 7, 9]\n"
     ]
    }
   ],
   "source": [
    "arrays=[[1,2,3,4,3,6],\n",
    "    [5,1,3,4],\n",
    "    [9,5,7,1],\n",
    "    [2,4,1,3]]\n",
    "result =set()\n",
    "for array in arrays:\n",
    "    result.update(array)\n",
    "print(list(result))\n",
    "         "
   ]
  },
  {
   "cell_type": "markdown",
   "id": "97d80d76-6d0f-4a81-93c8-19072581e179",
   "metadata": {},
   "source": [
    "**5)intersection of two lists. intersection of two list means we need to take all those elements which are common to both of the initiallists and store them into another list.only use using list comprehension**"
   ]
  },
  {
   "cell_type": "code",
   "execution_count": 87,
   "id": "552a1c88-b7c9-4ac5-8069-fae59b08e188",
   "metadata": {},
   "outputs": [
    {
     "name": "stdout",
     "output_type": "stream",
     "text": [
      "[4, 5, 9, 10]\n"
     ]
    }
   ],
   "source": [
    "l1={15,9,10,56,23,78,5,4,9}\n",
    "l2={9,4,5,36,47,26,10,45,87}\n",
    "intersection=[value for value in l1 if value in l2]\n",
    "print(intersection)"
   ]
  },
  {
   "cell_type": "code",
   "execution_count": null,
   "id": "5a9d9694-1b81-4c23-836a-752b9b2b70e1",
   "metadata": {},
   "outputs": [],
   "source": []
  }
 ],
 "metadata": {
  "kernelspec": {
   "display_name": "Python 3 (ipykernel)",
   "language": "python",
   "name": "python3"
  },
  "language_info": {
   "codemirror_mode": {
    "name": "ipython",
    "version": 3
   },
   "file_extension": ".py",
   "mimetype": "text/x-python",
   "name": "python",
   "nbconvert_exporter": "python",
   "pygments_lexer": "ipython3",
   "version": "3.11.7"
  },
  "widgets": {
   "application/vnd.jupyter.widget-state+json": {
    "state": {},
    "version_major": 2,
    "version_minor": 0
   }
  }
 },
 "nbformat": 4,
 "nbformat_minor": 5
}
