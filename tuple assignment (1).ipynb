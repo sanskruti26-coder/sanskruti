{
 "cells": [
  {
   "cell_type": "markdown",
   "id": "a45f2a58-a82f-4762-b8f2-b0bee278d989",
   "metadata": {},
   "source": [
    "**1)join tuples if similar initial element**"
   ]
  },
  {
   "cell_type": "code",
   "execution_count": 25,
   "id": "8d1f2735-1cc2-4f31-9e70-91f2f9405682",
   "metadata": {},
   "outputs": [
    {
     "name": "stdout",
     "output_type": "stream",
     "text": [
      "the original list is:[(5, 6), (5, 7), (6, 8), (6, 10), (7, 13)]\n",
      "the extracted elements:[[5, 6, 7], [5, 6, 7], [6, 8, 10], [6, 8, 10], [7, 13]]\n"
     ]
    }
   ],
   "source": [
    "test_list=[(5,6),(5,7),(6,8),(6,10),(7,13)]\n",
    "print(\"the original list is:\"+str(test_list))\n",
    "res=[]\n",
    "x=[]\n",
    "for i in test_list:\n",
    "    if i [0] not in x:\n",
    "        x.append(i[0])\n",
    "for i in x:\n",
    "    p=[]\n",
    "    p.append(i)\n",
    "    for j in test_list:\n",
    "        if i == j[0]:\n",
    "             p.append(j[1])\n",
    "             res.append(p)\n",
    "print(\"the extracted elements:\"+str(res))            "
   ]
  },
  {
   "cell_type": "markdown",
   "id": "48c47536-a786-4718-972e-c479437e5abc",
   "metadata": {},
   "source": [
    "**2)multiply adjacent elements (both side) and take sum of right and left side multiplication result**"
   ]
  },
  {
   "cell_type": "code",
   "execution_count": 1,
   "id": "243c4ab1-2452-4b0f-821e-fbff96e6b8df",
   "metadata": {},
   "outputs": [
    {
     "name": "stdout",
     "output_type": "stream",
     "text": [
      "the original tuple:(1, 5, 7, 8, 10)\n",
      "resultant tuple after multiplication:(5, 35, 56, 80)\n"
     ]
    }
   ],
   "source": [
    "test_tup=(1,5,7,8,10)\n",
    "print(\"the original tuple:\"+str(test_tup))\n",
    "res=tuple(i*j for i,j in zip(test_tup,test_tup[1:]))\n",
    "print(\"resultant tuple after multiplication:\"+str(res))"
   ]
  },
  {
   "cell_type": "markdown",
   "id": "2c3c8db8-4048-4c20-a723-7a16a5f5461c",
   "metadata": {},
   "source": [
    "**3) check is tuples are same or not**"
   ]
  },
  {
   "cell_type": "code",
   "execution_count": 12,
   "id": "7c464510-d16d-4c41-a39d-85e946761d10",
   "metadata": {},
   "outputs": [
    {
     "name": "stdout",
     "output_type": "stream",
     "text": [
      "the two tuples are not same\n"
     ]
    }
   ],
   "source": [
    "t1={1,2,3,0}\n",
    "t2={6,7,8,9}\n",
    "\n",
    "if t1 == t2:\n",
    "    print(\"the two tuples are same\")\n",
    "else:\n",
    "    print(\"the two tuples are not same\")\n",
    "    \n",
    "        \n",
    "\n",
    "\n"
   ]
  },
  {
   "cell_type": "markdown",
   "id": "f1116353-5303-41e0-8927-9a2e0f9fffc7",
   "metadata": {},
   "source": [
    "**4) count no of tuples,list and set from a list**"
   ]
  },
  {
   "cell_type": "code",
   "execution_count": 16,
   "id": "b1a38315-0c9d-4ec5-9f42-2844e73ae3f2",
   "metadata": {},
   "outputs": [
    {
     "name": "stdout",
     "output_type": "stream",
     "text": [
      "5\n",
      "5\n",
      "4\n"
     ]
    }
   ],
   "source": [
    "list=[1,2,3,4,5]\n",
    "set={11,12,13,14,15}\n",
    "tuple=(100,200,300,400)\n",
    "\n",
    "print(len(list))\n",
    "print(len(set))\n",
    "print(len(tuple))\n",
    "    \n",
    "    \n"
   ]
  },
  {
   "cell_type": "markdown",
   "id": "11f5d5c8-04cc-4b8f-9a28-10d2a082be69",
   "metadata": {},
   "source": [
    "**5)shortlist students for a job role**"
   ]
  },
  {
   "cell_type": "code",
   "execution_count": 28,
   "id": "227360fe-0f27-457b-a198-1a52cc5dbeb4",
   "metadata": {},
   "outputs": [
    {
     "name": "stdout",
     "output_type": "stream",
     "text": [
      "{'name': 'manohar', 'education': 'B.tech', 'skill': 'python', 'year of graduation': '2022'}\n",
      "{'name': 'ponian', 'education': 'B.Sc', 'skill': 'C++', 'year of education': '2020'}\n"
     ]
    }
   ],
   "source": [
    "student1={\n",
    "   \"name\": \"manohar\",\n",
    "   \"education\": \"B.tech\",\n",
    "   \"skill\": \"python\",\n",
    "   \"year of graduation\":\"2022\",\n",
    "}\n",
    "student2={\n",
    "   \"name\": \"ponian\",\n",
    "   \"education\": \"B.Sc\",\n",
    "   \"skill\":\"C++\",\n",
    "   \"year of education\": \"2020\",\n",
    "}\n",
    "print(student1)\n",
    "print(student2)"
   ]
  },
  {
   "cell_type": "markdown",
   "id": "8a0fef25-c0d8-4f16-ba24-dcc189d962b3",
   "metadata": {},
   "source": []
  },
  {
   "cell_type": "code",
   "execution_count": null,
   "id": "365ddf1c-d353-496a-bde5-9e5eb4b74457",
   "metadata": {},
   "outputs": [],
   "source": []
  }
 ],
 "metadata": {
  "kernelspec": {
   "display_name": "Python 3 (ipykernel)",
   "language": "python",
   "name": "python3"
  },
  "language_info": {
   "codemirror_mode": {
    "name": "ipython",
    "version": 3
   },
   "file_extension": ".py",
   "mimetype": "text/x-python",
   "name": "python",
   "nbconvert_exporter": "python",
   "pygments_lexer": "ipython3",
   "version": "3.11.7"
  },
  "widgets": {
   "application/vnd.jupyter.widget-state+json": {
    "state": {},
    "version_major": 2,
    "version_minor": 0
   }
  }
 },
 "nbformat": 4,
 "nbformat_minor": 5
}
