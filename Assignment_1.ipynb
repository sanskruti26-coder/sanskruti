{
 "cells": [
  {
   "cell_type": "markdown",
   "id": "47f0496b-c459-41f6-b0d1-f15b849d8af0",
   "metadata": {},
   "source": [
    "## Problem 1: Write a program that will give you in hand monthly salary after deduction on CTC - HRA(10%), DA(5%), PF(3%) and taxes deduction as below:\n",
    "Salary(Lakhs) : Tax(%)"
   ]
  },
  {
   "cell_type": "code",
   "execution_count": null,
   "id": "4a0210a4-6f30-4d3f-bebf-8a0467c644ad",
   "metadata": {},
   "outputs": [],
   "source": [
    "Below 5 : 0%\n",
    "5-10 : 10%\n",
    "10-20 : 20%\n",
    "aboove 20 : 30%\n",
    "[ ]\n"
   ]
  },
  {
   "cell_type": "code",
   "execution_count": 16,
   "id": "9cb9f0bc-8343-45a8-96dc-83179fb96484",
   "metadata": {},
   "outputs": [
    {
     "name": "stdout",
     "output_type": "stream",
     "text": [
      "260000\n"
     ]
    }
   ],
   "source": [
    "def computeSalary( basic, grade):\n",
    "\t\n",
    "\thra = 10 * basic\n",
    "\tda = 5 * basic\n",
    "\tpf = 3 * basic\n",
    "\t\n",
    "\tif grade == 'A':\n",
    "\t\tallowance = 0.500\n",
    "\telif grade == 'B': \n",
    "\t\tallowance = 200\n",
    "\telse:\n",
    "\t\tallowance = 600;\n",
    "\t\n",
    "\tgross = round(basic + hra + da +\n",
    "\t\t\t\t\tallowance - pf)\n",
    "\t\t\t\t\t\n",
    "\treturn gross\n",
    "if __name__ == '__main__': \n",
    "\t\n",
    "\tbasic = 20000\n",
    "\tgrade = 'A'\n",
    "\tprint(computeSalary(basic, grade));"
   ]
  },
  {
   "cell_type": "markdown",
   "id": "604b3025-a02b-4e67-abe9-1b4103115f79",
   "metadata": {},
   "source": [
    "## Problem 2: Write a program that take a user input of three angles and will find out whether it can form a triangle or not.\n"
   ]
  },
  {
   "cell_type": "code",
   "execution_count": 15,
   "id": "da08634b-09d9-48e8-a4aa-d9f581a1ee31",
   "metadata": {},
   "outputs": [
    {
     "name": "stdin",
     "output_type": "stream",
     "text": [
      "enter the traingle side- 60\n",
      "enter the traingle side- 60\n",
      "enter the traingle side- 60\n"
     ]
    },
    {
     "name": "stdout",
     "output_type": "stream",
     "text": [
      "it is a traingle\n"
     ]
    }
   ],
   "source": [
    "s1 = int(input(\"enter the traingle side-\"))\n",
    "s2 = int(input(\"enter the traingle side-\"))\n",
    "s3 = int(input(\"enter the traingle side-\"))\n",
    "sum = s1+s2+s3\n",
    "if(sum==180):\n",
    "    print(\"it is a traingle\")\n",
    "else:\n",
    "    print(\"it is not a traingle\")"
   ]
  },
  {
   "cell_type": "markdown",
   "id": "e6af53a2-8dce-4300-b312-145c7fec7029",
   "metadata": {},
   "source": [
    "## Problem 3: Write a program that will take user input of cost price and selling price and determines whether its a loss or a profit."
   ]
  },
  {
   "cell_type": "code",
   "execution_count": 7,
   "id": "d276e184-4dc5-43d4-bfea-9665398957fa",
   "metadata": {},
   "outputs": [
    {
     "name": "stdin",
     "output_type": "stream",
     "text": [
      "Enter the cost Price of an Item : 230\n",
      "Enter the Selling Price of an Item : 350\n"
     ]
    },
    {
     "name": "stdout",
     "output_type": "stream",
     "text": [
      "Profit : 120.0\n"
     ]
    }
   ],
   "source": [
    " cost_price=float(input(\"Enter the cost Price of an Item :\"))\n",
    "selling_price=float(input(\"Enter the Selling Price of an Item :\"))\n",
    "if (selling_price > cost_price):\n",
    "\tprofit = selling_price - cost_price\n",
    "\tprint(\"Profit :\",profit)\n",
    "elif( cost_price > selling_price):\n",
    "\tloss = cost_price - selling_price\n",
    "\tprint(\"Loss :\",loss)\n",
    "else:\n",
    "\tprint(\"No Profit No Loss\")"
   ]
  },
  {
   "cell_type": "markdown",
   "id": "2209febd-98bb-43f0-8987-644dc8f81b58",
   "metadata": {},
   "source": [
    "## Problem 4: Write a menu-driven program -"
   ]
  },
  {
   "cell_type": "code",
   "execution_count": 3,
   "id": "f240f0d8-24ee-40f4-be3d-432b74fe7f61",
   "metadata": {},
   "outputs": [
    {
     "name": "stdin",
     "output_type": "stream",
     "text": [
      "\n",
      "Hii select one option\n",
      "1. cms to ft\n",
      "2. km to miles\n",
      "3. USD to INR\n",
      "4. Exit\n",
      "\n",
      " 3\n",
      "enter your USD value 240\n"
     ]
    },
    {
     "name": "stdout",
     "output_type": "stream",
     "text": [
      "INR value is   17580.0\n"
     ]
    }
   ],
   "source": [
    "menu = input(\"\"\"\n",
    "Hii select one option\n",
    "1. cms to ft\n",
    "2. km to miles\n",
    "3. USD to INR\n",
    "4. Exit\n",
    "\n",
    "\"\"\")\n",
    "if menu ==\"1\":\n",
    "    cm = float(input(\"enter your cm value\"))\n",
    "    print(\"ft value is \", 0.02370*cm)\n",
    "elif menu == \"2\":\n",
    "    km =eval(input(\"enter your km value\"))\n",
    "    print(\"miles value is  \",0.52*km)\n",
    "elif menu ==\"3\":\n",
    "     USD = eval(input(\"enter your USD value\"))\n",
    "     print(\"INR value is  \",73.25*USD)\n",
    "else:\n",
    "    print(\"Exit\")"
   ]
  },
  {
   "cell_type": "markdown",
   "id": "da7528b8-a48d-4cf9-8582-f61cdec05973",
   "metadata": {},
   "source": [
    "## Problem 5: Display Fibonacci series up to 10 terms."
   ]
  },
  {
   "cell_type": "code",
   "execution_count": 22,
   "id": "4f4f31fc-ec15-4d5f-9f53-7ad3ea43ee76",
   "metadata": {},
   "outputs": [
    {
     "name": "stdout",
     "output_type": "stream",
     "text": [
      "0\n",
      "1\n",
      "1\n",
      "2\n",
      "3\n",
      "5\n",
      "8\n",
      "13\n",
      "21\n",
      "34\n"
     ]
    }
   ],
   "source": [
    "num_terms = 10\n",
    "\n",
    "a, b = 0, 1\n",
    "\n",
    "for _ in range(num_terms):\n",
    "    \n",
    "    print(a)\n",
    "\n",
    "    temp = a + b\n",
    "\n",
    "    a = b\n",
    "    b = temp"
   ]
  },
  {
   "cell_type": "markdown",
   "id": "1e8459c1-eafe-4209-af21-8c9fe512f6b2",
   "metadata": {},
   "source": [
    "## Problem 6 - Find the factorial of a given number."
   ]
  },
  {
   "cell_type": "code",
   "execution_count": 5,
   "id": "b716a2e0-660e-46eb-8869-bdb0ffd6c0b8",
   "metadata": {},
   "outputs": [
    {
     "name": "stdout",
     "output_type": "stream",
     "text": [
      "Factorial of 5 is 120\n"
     ]
    }
   ],
   "source": [
    "# factorial of given number\n",
    "def factorial(n):\n",
    "    \n",
    "    return 1 if (n==1 or n==0) else n * factorial(n - 1) \n",
    "\n",
    "num = 5\n",
    "print(\"Factorial of\",num,\"is\",factorial(num))\n"
   ]
  },
  {
   "cell_type": "markdown",
   "id": "4cbae8bf-751c-4c4a-8fbd-1304d346e15b",
   "metadata": {},
   "source": [
    "## Problem 7 - Reverse a given integer number."
   ]
  },
  {
   "cell_type": "code",
   "execution_count": 23,
   "id": "d6092a97-ae2e-4247-844a-059b82ddc16e",
   "metadata": {},
   "outputs": [
    {
     "data": {
      "text/plain": [
       "'24567'"
      ]
     },
     "execution_count": 23,
     "metadata": {},
     "output_type": "execute_result"
    }
   ],
   "source": [
    "str1 = \"76542\"\n",
    "str1[0:]\n",
    "str1[::-1]"
   ]
  },
  {
   "cell_type": "markdown",
   "id": "9b0ab5b2-7d3c-4b05-a904-e25a6f96c385",
   "metadata": {},
   "source": [
    "## Problem 8: Take a user input as integer N Find out the sum from 1 to N. If any number if divisible by 5, then skip that number.And if the sum is greater than 300, don't need to calculate the sum further more.Print the final result. And don't use for loop to solve this problem."
   ]
  },
  {
   "cell_type": "code",
   "execution_count": 2,
   "id": "2b99fe8f-caa3-4070-ace3-8c2ce24a359c",
   "metadata": {},
   "outputs": [
    {
     "name": "stdout",
     "output_type": "stream",
     "text": [
      "NO\n"
     ]
    }
   ],
   "source": [
    "def isDivisible(n):\n",
    "\n",
    "\ttemp = n\n",
    "\n",
    "\tsum = 0;\n",
    "\twhile (n): \n",
    "\t\n",
    "\t\tk = n % 10;\n",
    "\t\tsum += k;\n",
    "\t\tn /= 10;\n",
    "\t\n",
    "\tif (temp % sum == 0):\n",
    "\t\treturn \"YES\";\n",
    "\n",
    "\treturn \"NO\";\n",
    "\n",
    "n = 123;\n",
    "\n",
    "print(isDivisible(n));"
   ]
  },
  {
   "cell_type": "markdown",
   "id": "8ca23992-5f60-448a-b485-e103bb1bd7e3",
   "metadata": {},
   "source": [
    "## Problem 9: Write a program that keeps on accepting a number from the user until the user enters Zero. Display the sum and average of all the numbers."
   ]
  },
  {
   "cell_type": "code",
   "execution_count": 10,
   "id": "6c973a1f-ac9d-43ad-a997-af9e90b07267",
   "metadata": {},
   "outputs": [
    {
     "name": "stdin",
     "output_type": "stream",
     "text": [
      "Enter number 5\n"
     ]
    },
    {
     "name": "stdout",
     "output_type": "stream",
     "text": [
      "Sum of first  5 numbers is:  15\n",
      "Average of  5 numbers is:  3.0\n"
     ]
    }
   ],
   "source": [
    "n = int(input(\"Enter number\"))\n",
    "sum = 0\n",
    "# loop from 1 to n\n",
    "for num in range(1, n + 1, 1):\n",
    "    sum = sum + num\n",
    "print(\"Sum of first \", n, \"numbers is: \", sum)\n",
    "average = sum / n\n",
    "print(\"Average of \", n, \"numbers is: \", average)"
   ]
  },
  {
   "cell_type": "markdown",
   "id": "5c982a75-d92a-430b-9da0-0c3185a5e635",
   "metadata": {},
   "source": [
    "## Problem 9: Write a program which will find all such numbers which are divisible by 7 but are not a multiple of 5, between 2000 and 3200 (both included). The numbers obtained should be printed in a comma-separated sequence on a single line."
   ]
  },
  {
   "cell_type": "code",
   "execution_count": 21,
   "id": "4f334788-6441-4bb6-a6af-f4698930edd0",
   "metadata": {},
   "outputs": [
    {
     "name": "stdout",
     "output_type": "stream",
     "text": [
      "1505,1540,1575,1610,1645,1680,1715,1750,1785,1820,1855,1890,1925,1960,1995,2030,2065,2100,2135,2170,2205,2240,2275,2310,2345,2380,2415,2450,2485,2520,2555,2590,2625,2660,2695\n"
     ]
    }
   ],
   "source": [
    "nl = []\n",
    "\n",
    "for x in range(1500, 2701):\n",
    "\n",
    "    if (x % 7 == 0) and (x % 5 == 0):\n",
    "        \n",
    "        nl.append(str(x))\n",
    "\n",
    "print(','.join(nl))\n"
   ]
  },
  {
   "cell_type": "markdown",
   "id": "2eb89f60-bc77-437d-acb6-1911cf97188f",
   "metadata": {},
   "source": [
    "## Problem 10: Write a program, which will find all such numbers between 1000 and 3000 (both included) such that each digit of the number is an even number. The numbers obtained should be printed in a space-separated sequence on a single line."
   ]
  },
  {
   "cell_type": "code",
   "execution_count": 8,
   "id": "6ec745b1-df41-4f62-98a0-2a76449bc976",
   "metadata": {},
   "outputs": [
    {
     "name": "stdout",
     "output_type": "stream",
     "text": [
      "200,202,204,206,208,220,222,224,226,228,240,242,244,246,248,260,262,264,266,268,280,282,284,286,288,400\n"
     ]
    }
   ],
   "source": [
    "# Create an empty list named 'items'\n",
    "items = []\n",
    "\n",
    "for i in range(100, 401):\n",
    "    \n",
    "    s = str(i)\n",
    "    \n",
    "    if (int(s[0]) % 2 == 0) and (int(s[1]) % 2 == 0) and (int(s[2]) % 2 == 0):\n",
    "    \n",
    "        items.append(s)\n",
    "\n",
    "\n",
    "print(\",\".join(items)) \n"
   ]
  },
  {
   "cell_type": "markdown",
   "id": "31a3d7b4-01f8-4c1c-909c-83bc463fb7ba",
   "metadata": {},
   "source": [
    "## Problem 11: A robot moves in a plane starting from the original point (0,0). The robot can move toward UP, DOWN, LEFT and RIGHT with a given steps."
   ]
  },
  {
   "cell_type": "code",
   "execution_count": null,
   "id": "76bf825c-8d11-484f-b95f-081dd495672c",
   "metadata": {},
   "outputs": [],
   "source": [
    "The trace of robot movement is shown as the following:\n",
    "\n",
    "UP 5\n",
    "DOWN 3\n",
    "LEFT 3\n",
    "RIGHT 2\n",
    "!"
   ]
  },
  {
   "cell_type": "code",
   "execution_count": 14,
   "id": "9aac1562-e0ac-4372-8a2d-283a2af744a2",
   "metadata": {},
   "outputs": [
    {
     "name": "stdout",
     "output_type": "stream",
     "text": [
      "Final Position: ( 2 ,  3 )\n"
     ]
    }
   ],
   "source": [
    "# Python3 implementation to find final position\n",
    "\n",
    "def finalPosition(move):\n",
    "\n",
    "\tl = len(move)\n",
    "\tcountUp, countDown = 0, 0\n",
    "\tcountLeft, countRight = 0, 0\n",
    "    \n",
    "\tfor i in range(l):\n",
    "\n",
    "\t\tif (move[i] == 'U'):\n",
    "\t\t\tcountUp += 1\n",
    "\n",
    "\t\telif(move[i] == 'D'):\n",
    "\t\t\tcountDown += 1\n",
    "\n",
    "\t\telif(move[i] == 'L'):\n",
    "\t\t\tcountLeft += 1\n",
    "\n",
    "\t\telif(move[i] == 'R'):\n",
    "\t\t\tcountRight += 1\n",
    "\n",
    "\tprint(\"Final Position: (\", (countRight - countLeft),\n",
    "\t\t\", \", (countUp - countDown), \")\")\n",
    "\n",
    "if __name__ == '__main__':\n",
    "\tmove = \"UDDLLRUUUDUURUDDUULLDRRRR\"\n",
    "\tfinalPosition(move)"
   ]
  },
  {
   "cell_type": "markdown",
   "id": "962f13c0-72aa-4571-a49a-eeec06d18c1a",
   "metadata": {},
   "source": [
    "## Problem 12:Write a program to print whether a given number is a prime number or not"
   ]
  },
  {
   "cell_type": "code",
   "execution_count": 4,
   "id": "590dae73-6ae5-482b-a8e1-12e42cd26b60",
   "metadata": {},
   "outputs": [
    {
     "name": "stdout",
     "output_type": "stream",
     "text": [
      "11 is a prime number\n"
     ]
    }
   ],
   "source": [
    "num = 11\n",
    "\n",
    "if num > 1:\n",
    "    \n",
    "    for i in range(2, (num//2)+1):\n",
    "        \n",
    "        if (num % i) == 0:\n",
    "            print(num, \"is not a prime number\")\n",
    "            break\n",
    "    else:\n",
    "        print(num, \"is a prime number\")\n",
    "else:\n",
    "    print(num, \"is not a prime number\")\n"
   ]
  },
  {
   "cell_type": "markdown",
   "id": "eda70562-a149-4363-b596-a1e5d7a4fef3",
   "metadata": {},
   "source": [
    "## Problem 13:Print all the Armstrong numbers in a given range.\n"
   ]
  },
  {
   "cell_type": "code",
   "execution_count": null,
   "id": "6cb6b0db-cf87-4910-b64d-f2daeb2dc937",
   "metadata": {},
   "outputs": [
    {
     "name": "stdin",
     "output_type": "stream",
     "text": [
      "enter lower range: 153\n",
      "enter upeper range: 407\n"
     ]
    }
   ],
   "source": [
    "lower_Range = int(input(\"enter lower range:\"))\n",
    "upper_Range = int(input(\"enter upeper range:\"))\n",
    "\n",
    "for n in range(lower_Range,upper_Range + 1):\n",
    "    sum=0\n",
    "    temp=n\n",
    "    while temp > 0:\n",
    "        digit = temp % 10\n",
    "        sum = sum + digit **3\n",
    "if n == sum:\n",
    "    print(n)"
   ]
  },
  {
   "cell_type": "markdown",
   "id": "293c5f36-ab14-4f89-abad-86a864d733b6",
   "metadata": {},
   "source": [
    "## Problem 14:Calculate the angle between the hour hand and minute hand."
   ]
  },
  {
   "cell_type": "code",
   "execution_count": null,
   "id": "c0db5829-2774-4770-aaf2-dcd21d11660d",
   "metadata": {},
   "outputs": [],
   "source": [
    "Note: There can be two angles between hands; we need to print a minimum of two. \n",
    "Also, we need to print the floor of the final result angle. \n",
    "For example, if the final angle is 10.61, we need to print 10.\n",
    "\n",
    "Input:\n",
    "H = 9 , M = 0\n",
    "Output:\n",
    "90"
   ]
  },
  {
   "cell_type": "code",
   "execution_count": 10,
   "id": "7ccdaa83-cec3-49e7-b80a-d4771744c6c5",
   "metadata": {},
   "outputs": [
    {
     "name": "stdout",
     "output_type": "stream",
     "text": [
      "Angle  90.0\n"
     ]
    }
   ],
   "source": [
    "# Python program to find angle \n",
    "# between hour and minute hand\n",
    "def calcAngle(h,m):\n",
    "\t\t\n",
    "\t\tif (h < 0 or m < 0 or h > 12 or m > 60):\n",
    "\t\t\tprint('Wrong input')\n",
    "\t\t\n",
    "\t\tif (h == 12):\n",
    "\t\t\th = 0\n",
    "\t\tif (m == 60):\n",
    "\t\t\tm = 0\n",
    "\t\t\th += 1;\n",
    "\t\t\tif(h>12):\n",
    "\t\t\t\th = h-12;\n",
    "                \n",
    "\t\thour_angle = 0.5 * (h * 60 + m)\n",
    "\t\tminute_angle = 6 * m\n",
    "\t\t\n",
    "\t\tangle = abs(hour_angle - minute_angle)\n",
    "\t\t\n",
    "\t\tangle = min(360 - angle, angle)\n",
    "\t\t\n",
    "\t\treturn angle\n",
    "h = 9\n",
    "m = 0\n",
    "print('Angle ', calcAngle(h,m))\n"
   ]
  },
  {
   "cell_type": "markdown",
   "id": "bfc7bdae-bb90-4104-8f2f-b0c1ea9c4913",
   "metadata": {},
   "source": [
    "## Problem 15:Given two rectangles, find if the given two rectangles overlap or not.A rectangle is denoted by providing the x and y coordinates of two points: the left top corner and the right bottom corner of the rectangle.Two rectangles sharing a side are considered overlapping. (L1 and R1 are the extreme points of the first rectangle and L2and R2 are the extreme points of the second rectangle)."
   ]
  },
  {
   "cell_type": "code",
   "execution_count": 13,
   "id": "d37f8e2d-27c4-4324-a539-c174305bb4a2",
   "metadata": {},
   "outputs": [
    {
     "name": "stdout",
     "output_type": "stream",
     "text": [
      "Rectangles Overlap\n"
     ]
    }
   ],
   "source": [
    "# Python program to check if rectangles overlap\n",
    "class Point:\n",
    "\tdef __init__(self, x, y):\n",
    "\t\tself.x = x\n",
    "\t\tself.y = y\n",
    "\n",
    "def do_overlap(l1, r1, l2, r2):\n",
    "\n",
    "\tif l1.x == r1.x or l1.y == r1.y or r2.x == l2.x or l2.y == r2.y:\n",
    "\t\treturn False\n",
    "\t\n",
    "\tif l1.x > r2.x or l2.x > r1.x:\n",
    "\t\treturn False\n",
    "\n",
    "\tif r1.y > l2.y or r2.y > l1.y:\n",
    "\t\treturn False\n",
    "\n",
    "\treturn True\n",
    "    \n",
    "if __name__ == \"__main__\":\n",
    "\tl1 = Point(0, 10)\n",
    "\tr1 = Point(10, 0)\n",
    "\tl2 = Point(5, 5)\n",
    "\tr2 = Point(15, 0)\n",
    "\n",
    "\tif(do_overlap(l1, r1, l2, r2)):\n",
    "\t\tprint(\"Rectangles Overlap\")\n",
    "\telse:\n",
    "\t\tprint(\"Rectangles Don't Overlap\")\n"
   ]
  },
  {
   "cell_type": "code",
   "execution_count": null,
   "id": "a268864c-ecda-4e3d-ad5f-a61eecc20a19",
   "metadata": {},
   "outputs": [],
   "source": []
  }
 ],
 "metadata": {
  "kernelspec": {
   "display_name": "Python 3 (ipykernel)",
   "language": "python",
   "name": "python3"
  },
  "language_info": {
   "codemirror_mode": {
    "name": "ipython",
    "version": 3
   },
   "file_extension": ".py",
   "mimetype": "text/x-python",
   "name": "python",
   "nbconvert_exporter": "python",
   "pygments_lexer": "ipython3",
   "version": "3.11.7"
  }
 },
 "nbformat": 4,
 "nbformat_minor": 5
}
