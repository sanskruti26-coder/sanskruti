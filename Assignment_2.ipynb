{
 "cells": [
  {
   "cell_type": "markdown",
   "id": "e9f8c03e-d67a-4740-9228-8f04ff353ff6",
   "metadata": {},
   "source": [
    "## Problem 1 - Print the following pattern. Write a program to use for loop to print the following reverse number pattern."
   ]
  },
  {
   "cell_type": "code",
   "execution_count": null,
   "id": "6f36dfef-12fa-4fa3-86a5-2f5fea5bdf16",
   "metadata": {},
   "outputs": [],
   "source": [
    "5 4 3 2 1 \n",
    "4 3 2 1 \n",
    "3 2 1 \n",
    "2 1 \n",
    "1"
   ]
  },
  {
   "cell_type": "code",
   "execution_count": 5,
   "id": "980418e9-3c9e-4882-ba81-2f9a4db9686f",
   "metadata": {},
   "outputs": [
    {
     "name": "stdout",
     "output_type": "stream",
     "text": [
      "5 4 3 2 1 \n",
      "4 3 2 1 \n",
      "3 2 1 \n",
      "2 1 \n",
      "1 \n",
      "\n"
     ]
    }
   ],
   "source": [
    "rows = 5\n",
    "for i in range(0, rows + 1):\n",
    "    for j in range(rows - i, 0, -1):\n",
    "        print(j, end=' ')\n",
    "    print()"
   ]
  },
  {
   "cell_type": "markdown",
   "id": "67ffe4ce-cbdf-473b-96cb-5d4a42737a3d",
   "metadata": {},
   "source": [
    "## Problem 2: Print the following pattern."
   ]
  },
  {
   "cell_type": "code",
   "execution_count": null,
   "id": "7a69ba7c-645b-4dde-933f-df4a3d81f643",
   "metadata": {},
   "outputs": [],
   "source": [
    "* \n",
    "* * \n",
    "* * * \n",
    "* * * * \n",
    "* * * * * \n",
    "* * * * \n",
    "* * * \n",
    "* * \n",
    "*"
   ]
  },
  {
   "cell_type": "code",
   "execution_count": 7,
   "id": "147043ef-904a-4a4c-8a63-0aa288300d65",
   "metadata": {},
   "outputs": [
    {
     "name": "stdout",
     "output_type": "stream",
     "text": [
      "* \n",
      "* * \n",
      "* * * \n",
      "* * * * \n",
      "* * * * * \n",
      "* * * * \n",
      "* * * \n",
      "* * \n",
      "* \n",
      "\n"
     ]
    }
   ],
   "source": [
    "rows = 5\n",
    "for i in range(0, rows):\n",
    "    for j in range(0, i + 1):\n",
    "        print(\"*\", end=' ')\n",
    "    print(\"\\r\")\n",
    "\n",
    "for i in range(rows, 0, -1):\n",
    "    for j in range(0, i - 1):\n",
    "        print(\"*\", end=' ')\n",
    "    print(\"\\r\")"
   ]
  },
  {
   "cell_type": "markdown",
   "id": "347c5fd3-a849-4182-9c40-87364ff33b07",
   "metadata": {},
   "source": [
    "## Problem 3:Write a program to print the following pattern"
   ]
  },
  {
   "cell_type": "code",
   "execution_count": null,
   "id": "248b0020-d3f4-4260-8fab-7277537f025a",
   "metadata": {},
   "outputs": [],
   "source": [
    "    *\n",
    "  * * *\n",
    "* * * * *"
   ]
  },
  {
   "cell_type": "code",
   "execution_count": 5,
   "id": "364962c3-c4c3-4c58-9f01-92e9321cbf89",
   "metadata": {},
   "outputs": [
    {
     "name": "stdout",
     "output_type": "stream",
     "text": [
      "  *\n",
      " ***\n",
      "*****\n"
     ]
    }
   ],
   "source": [
    "def full_pyramid(n):\n",
    "    for i in range(1, n + 1):\n",
    "        for j in range(n - i):\n",
    "            print(\" \", end=\"\")\n",
    "        \n",
    "        for k in range(1, 2*i):\n",
    "            print(\"*\", end=\"\")\n",
    "        print()\n",
    "   \n",
    "full_pyramid(3)\n"
   ]
  },
  {
   "cell_type": "markdown",
   "id": "5db7c660-e9d7-43ac-87d2-cb029fcf55d7",
   "metadata": {},
   "source": [
    "## Problem 4:Write a program to print the following pattern"
   ]
  },
  {
   "cell_type": "code",
   "execution_count": null,
   "id": "4ffb7ed7-0bc5-4423-99e4-c019ea564adb",
   "metadata": {},
   "outputs": [],
   "source": [
    "1\n",
    "2 1\n",
    "3 2 1\n",
    "4 3 2 1\n",
    "5 4 3 2 1"
   ]
  },
  {
   "cell_type": "code",
   "execution_count": 8,
   "id": "4af53594-0fce-4648-82e4-b2cc1d99b253",
   "metadata": {},
   "outputs": [
    {
     "name": "stdout",
     "output_type": "stream",
     "text": [
      "1 \n",
      "2 1 \n",
      "3 2 1 \n",
      "4 3 2 1 \n",
      "5 4 3 2 1 \n"
     ]
    }
   ],
   "source": [
    "rows = 6\n",
    "for i in range(1, rows):\n",
    "    for j in range(i, 0, -1):\n",
    "        print(j, end=' ')\n",
    "    print(\"\")\n"
   ]
  },
  {
   "cell_type": "markdown",
   "id": "122da577-cae7-4829-8598-6a0626a90d6b",
   "metadata": {},
   "source": [
    "## Problem 5: Write a Python Program to Find the Sum of the Series till the nth term:"
   ]
  },
  {
   "cell_type": "code",
   "execution_count": null,
   "id": "e08d8692-6886-45fa-9147-9a3c917683f0",
   "metadata": {},
   "outputs": [],
   "source": [
    "1 + x^2/2 + x^3/3 + … x^n/n\n",
    "n will be provided by the user"
   ]
  },
  {
   "cell_type": "code",
   "execution_count": 24,
   "id": "d9fe0b90-0718-4324-8343-e1964eb69d14",
   "metadata": {},
   "outputs": [
    {
     "name": "stdout",
     "output_type": "stream",
     "text": [
      "47.02\n"
     ]
    }
   ],
   "source": [
    "def SUM(x, n):\n",
    "\ttotal = 1\n",
    "\tfor i in range(1, n + 1):\n",
    "\t\ttotal = total + ((x**i)/i)\n",
    "\treturn total \n",
    "\n",
    "x = 2\n",
    "n = 7\n",
    "s = SUM(x, n)\n",
    "print(round(s, 2))\n"
   ]
  },
  {
   "cell_type": "markdown",
   "id": "5dee9592-446f-40df-b417-99815933288c",
   "metadata": {},
   "source": [
    "## Problem 6: The natural alogarithm can be approximated by the following series."
   ]
  },
  {
   "cell_type": "code",
   "execution_count": null,
   "id": "11529965-806b-4436-814d-8f7c4bf560ee",
   "metadata": {},
   "outputs": [],
   "source": [
    "If x is input through the keyboard, write a program to calculate the sum of the first seven terms of this series."
   ]
  },
  {
   "cell_type": "code",
   "execution_count": 26,
   "id": "162036db-373f-41fa-942b-124ec0c44d33",
   "metadata": {},
   "outputs": [
    {
     "name": "stdin",
     "output_type": "stream",
     "text": [
      "Enter the number of terms:  7\n"
     ]
    },
    {
     "name": "stdout",
     "output_type": "stream",
     "text": [
      "The sum of series is 2.59\n"
     ]
    }
   ],
   "source": [
    "n=int(input(\"Enter the number of terms: \"))\n",
    "sum1=0\n",
    "for i in range(1,n+1):\n",
    "    sum1=sum1+(1/i)\n",
    "print(\"The sum of series is\",round(sum1,2))"
   ]
  },
  {
   "cell_type": "markdown",
   "id": "c2146851-73ca-466c-b781-9b401071d543",
   "metadata": {},
   "source": [
    "## Problem 7 - Find the sum of the series upto n terms Write a program to calculate the sum of series up to n term. For example, if n =5 the series will become 2 + 22 + 222 + 2222 + 22222 = 24690. Take the user input and then calculate. And the output style should match which is given in the example."
   ]
  },
  {
   "cell_type": "code",
   "execution_count": null,
   "id": "b098170f-cbb0-4596-bf77-a93e05f15cca",
   "metadata": {},
   "outputs": [],
   "source": [
    "Example 1:\n",
    "\n",
    "Input:\n",
    "\n",
    "5\n",
    "Output:\n",
    "\n",
    "2+22+222+2222+22222\n",
    "Sum of above series is: 24690"
   ]
  },
  {
   "cell_type": "code",
   "execution_count": 5,
   "id": "d3e37785-25b8-43a5-94b0-578367b699cc",
   "metadata": {},
   "outputs": [
    {
     "name": "stdout",
     "output_type": "stream",
     "text": [
      "24690\n"
     ]
    }
   ],
   "source": [
    "number_of_terms = 5\n",
    "sum1=0\n",
    "for i in range (1, number_of_terms + 1):\n",
    "    sum1 += int('2' * i)\n",
    "print(sum1)"
   ]
  },
  {
   "cell_type": "markdown",
   "id": "00358591-6d51-4535-b19a-6efb9ded1944",
   "metadata": {},
   "source": [
    "## Problem 8: Write a program to print all the unique combinations of 1,2,3 and 4"
   ]
  },
  {
   "cell_type": "code",
   "execution_count": null,
   "id": "1d0b5e65-dce3-4820-a0e6-5ed92eb2acaa",
   "metadata": {},
   "outputs": [],
   "source": [
    "Output:\n",
    "\n",
    "1 2 3 4\n",
    "1 2 4 3\n",
    "1 3 2 4\n",
    "1 3 4 2\n",
    "1 4 2 3\n",
    "1 4 3 2\n",
    "2 1 3 4\n",
    "2 1 4 3\n",
    "2 3 1 4\n",
    "2 3 4 1\n",
    "2 4 1 3"
   ]
  },
  {
   "cell_type": "code",
   "execution_count": null,
   "id": "56dbec7c-4cdc-4f97-ae35-3157eff730af",
   "metadata": {},
   "outputs": [],
   "source": []
  },
  {
   "cell_type": "markdown",
   "id": "1693df62-e11d-483a-a4bd-09da83742af0",
   "metadata": {},
   "source": [
    "## Problem 9: Write a program that will take a decimal number as input and prints out the binary equivalent of the number\n"
   ]
  },
  {
   "cell_type": "code",
   "execution_count": 9,
   "id": "f60b5109-9a1a-4762-b0a6-bd412881aa86",
   "metadata": {},
   "outputs": [
    {
     "name": "stdout",
     "output_type": "stream",
     "text": [
      "10001"
     ]
    }
   ],
   "source": [
    "def decToBinary(n):\n",
    "    \n",
    "    binaryNum = [0] * n\n",
    "\n",
    "    i = 0;\n",
    "    while (n > 0): \n",
    "\n",
    "        binaryNum[i] = n % 2\n",
    "        n = int(n / 2)\n",
    "        i += 1\n",
    "\n",
    "    for j in range(i - 1, -1, -1):\n",
    "        print(binaryNum[j], end = \"\")\n",
    "\n",
    "n = 17\n",
    "decToBinary(n)"
   ]
  },
  {
   "cell_type": "markdown",
   "id": "f6afb3d3-b212-43ac-8ec1-b07f2faa98d6",
   "metadata": {},
   "source": [
    "## Problem 10: Write a program that will take 2 numbers as input and prints the LCM and HCF of those 2 numbers\n"
   ]
  },
  {
   "cell_type": "code",
   "execution_count": 11,
   "id": "9424cc04-5496-416a-942a-2d13840f7cba",
   "metadata": {},
   "outputs": [
    {
     "name": "stdin",
     "output_type": "stream",
     "text": [
      "Enter the first number:  12\n",
      "Enter the second number:  18\n"
     ]
    },
    {
     "name": "stdout",
     "output_type": "stream",
     "text": [
      "First Number is:  12\n",
      "Second Number is:  18\n",
      "LCM of the two numbers is:  36\n"
     ]
    }
   ],
   "source": [
    "a = int(input(\"Enter the first number: \"))\n",
    "b = int(input(\"Enter the second number: \"))\n",
    "\n",
    "HCF = 1\n",
    "\n",
    "for i in range(2,a+1):\n",
    "    if(a%i==0 and b%i==0):\n",
    "        HCF = i\n",
    "\n",
    "print(\"First Number is: \",a)\n",
    "print(\"Second Number is: \",b)\n",
    "\n",
    "LCM = int((a*b)/(HCF))\n",
    "print(\"LCM of the two numbers is: \",LCM)"
   ]
  },
  {
   "cell_type": "markdown",
   "id": "f608c64a-19cf-4908-aa9a-1f73b8332b37",
   "metadata": {},
   "source": [
    "## Problem 11: Create Short Form from initial character Given a string create short form ofthe string from Initial character. Short form should be capitalised"
   ]
  },
  {
   "cell_type": "code",
   "execution_count": null,
   "id": "595dbfd3-b32c-4d10-82cf-32592ec882f8",
   "metadata": {},
   "outputs": [],
   "source": [
    "Example:\n",
    "\n",
    "Input:\n",
    "Data science mentorship program\n",
    "\n",
    "output\n",
    "DSMP"
   ]
  },
  {
   "cell_type": "code",
   "execution_count": 21,
   "id": "758badf9-b8c9-4ae2-bd94-95da10c8128c",
   "metadata": {},
   "outputs": [
    {
     "name": "stdout",
     "output_type": "stream",
     "text": [
      "DSMP\n"
     ]
    }
   ],
   "source": [
    "def fxn(stng):\n",
    "\n",
    "\toupt = stng[0]\n",
    "\t\n",
    "\tfor i in range(1, len(stng)):\n",
    "\t\tif stng[i-1] == ' ':\n",
    "\t\t\n",
    "\t\t\toupt += stng[i]\n",
    "\t\t\t\n",
    "\toupt = oupt.upper()\n",
    "\treturn oupt\n",
    "\n",
    "inpt1 = \"Data science mentorship program\"\n",
    "\n",
    "print(fxn(inpt1))\n"
   ]
  },
  {
   "cell_type": "markdown",
   "id": "d4ef86d9-b0a0-4b7e-803a-029ad500dc55",
   "metadata": {},
   "source": [
    "## Problem 12: Append second string in the middle of first string"
   ]
  },
  {
   "cell_type": "code",
   "execution_count": null,
   "id": "7b20b948-7554-4b2d-8b49-ff14a0385003",
   "metadata": {},
   "outputs": [],
   "source": [
    "Input:\n",
    "\n",
    "campusx\n",
    "data"
   ]
  },
  {
   "cell_type": "code",
   "execution_count": 10,
   "id": "17c8ae53-ba07-4d3d-8c7b-289109782609",
   "metadata": {},
   "outputs": [
    {
     "name": "stdout",
     "output_type": "stream",
     "text": [
      "campusxdata\n"
     ]
    }
   ],
   "source": [
    "print(\"campusx\" + \"data\")"
   ]
  },
  {
   "cell_type": "markdown",
   "id": "fc0ecf63-592e-408f-b676-4e7adc7d2bbe",
   "metadata": {},
   "source": [
    "## Problem 13:Given string contains a combination of the lower and upper case letters. Write a program to arrange the characters of a string so that all lowercase letters should come first."
   ]
  },
  {
   "cell_type": "code",
   "execution_count": null,
   "id": "1cddce9d-eee9-4bd8-bd22-c481ad7d1399",
   "metadata": {},
   "outputs": [],
   "source": [
    "Given:\n",
    "\n",
    "str1 = PyNaTive\n",
    "\n",
    "Expected Output:\n",
    "\n",
    "yaivePNT"
   ]
  },
  {
   "cell_type": "code",
   "execution_count": null,
   "id": "323a68b9-02ac-482c-a682-68a5448b9b65",
   "metadata": {},
   "outputs": [],
   "source": []
  },
  {
   "cell_type": "markdown",
   "id": "7c4de57c-0a3d-4a42-9f80-9a704526206b",
   "metadata": {},
   "source": [
    "## Problem 14:Take a alphanumeric string input and print the sum and average of the digits that appear in the string, ignoring all other characters."
   ]
  },
  {
   "cell_type": "code",
   "execution_count": null,
   "id": "5043719c-4578-4ba4-b6b3-f86b9fc4e47d",
   "metadata": {},
   "outputs": [],
   "source": [
    "Input:\n",
    "\n",
    "hel123O4every093\n",
    "\n",
    "Output:\n",
    "\n",
    "Sum: 22\n",
    "Avg: 2.75\n"
   ]
  },
  {
   "cell_type": "code",
   "execution_count": 44,
   "id": "55720f6e-cebc-42c4-8d24-de178bd21953",
   "metadata": {},
   "outputs": [
    {
     "name": "stdout",
     "output_type": "stream",
     "text": [
      "Extracted numbers: [123, 4, 93]\n",
      "Sum: 220, Average: 73.33333333333333\n"
     ]
    }
   ],
   "source": [
    "input_str = \"hel123O4every093\"\n",
    "\n",
    "numbers = ''.join((ch if ch in '12304093' else ' ') for ch in input_str)\n",
    "numbers_list = [int(i) for i in numbers.split()]\n",
    "\n",
    "print(f\"Extracted numbers: {numbers_list}\")\n",
    "print(f\"Sum: {sum(numbers_list)}, Average: {sum(numbers_list)/ len(numbers_list)}\")\n"
   ]
  },
  {
   "cell_type": "markdown",
   "id": "13054cfe-f529-45d3-a0cc-5f4ea297c91d",
   "metadata": {},
   "source": [
    "## Problem 15: Removal of all characters from a string except integers"
   ]
  },
  {
   "cell_type": "code",
   "execution_count": 51,
   "id": "358e3b8b-88d1-489e-aa73-6277ec42df66",
   "metadata": {},
   "outputs": [
    {
     "name": "stdout",
     "output_type": "stream",
     "text": [
      "The given string is:\n",
      "Iam25yearsand10monthsold\n",
      "Removing all the characters except digits\n",
      "2510\n"
     ]
    }
   ],
   "source": [
    "str1 = \"Iam25yearsand10monthsold\"\n",
    "print(\"The given string is:\")\n",
    "\n",
    "print(str1)\n",
    "\n",
    "print(\"Removing all the characters except digits\")\n",
    "print(''.join(i for i in str1 if i.isdigit()))"
   ]
  },
  {
   "cell_type": "markdown",
   "id": "22df417d-6bf3-4b5d-8282-c85d7ae48a62",
   "metadata": {},
   "source": [
    "## Problem 16: Check whether the string is Symmetrical. Statement: Given a string. the task is to check if the string is symmetrical or not. A string is said to be symmetrical if both the halves of the string are the same."
   ]
  },
  {
   "cell_type": "code",
   "execution_count": null,
   "id": "73151cf0-10f3-43a5-a72a-4d7a33f3b590",
   "metadata": {},
   "outputs": [],
   "source": [
    "Example 1:\n",
    "\n",
    "Input\n",
    "\n",
    "khokho\n",
    "Output\n",
    "\n",
    "The entered string is symmetrical"
   ]
  },
  {
   "cell_type": "code",
   "execution_count": 19,
   "id": "67c3e58b-5be5-437c-8f9e-a9c0bcc8455e",
   "metadata": {},
   "outputs": [
    {
     "name": "stdout",
     "output_type": "stream",
     "text": [
      "khokho\n",
      "symmetrical\n",
      "khokho\n",
      "symmetrical\n"
     ]
    }
   ],
   "source": [
    "def check_sym(string):\n",
    "    n=len(string)\n",
    "    flag=0\n",
    "    if n%2:\n",
    "        mid=n//2+1\n",
    "    else:\n",
    "        mid= n//2\n",
    "    start=0\n",
    "    end= mid\n",
    "    while(start <mid and end<n):\n",
    "        if(string[start]== string[end]):\n",
    "            start= start+1\n",
    "            end= end+1\n",
    "        else:\n",
    "            flag=1\n",
    "            break\n",
    "    if flag==0:\n",
    "        print(\"symmetrical\")\n",
    "    else:\n",
    "        print(\"not symmetrical\")\n",
    "\n",
    "# main\n",
    "s= \"khokho\"\n",
    "print (s)\n",
    "check_sym(s)\n",
    "s2= \"khokho\"\n",
    "print(s2)\n",
    "check_sym(s2)"
   ]
  },
  {
   "cell_type": "markdown",
   "id": "8f335568-b33e-451a-86cb-ca2aef3642f5",
   "metadata": {},
   "source": [
    "## Problem 17: Reverse words in a given String Statement: We are given a string and we need to reverse words of a given string."
   ]
  },
  {
   "cell_type": "code",
   "execution_count": null,
   "id": "cef36eb6-1d9f-41d7-9ece-1a1ae53f1c1c",
   "metadata": {},
   "outputs": [],
   "source": [
    "Example 1:\n",
    "\n",
    "Input:\n",
    "\n",
    "geeks quiz practice code\n",
    "Output:\n",
    "\n",
    "code practice quiz geeks\n",
    "\n",
    "\n",
    "Example 2:\n",
    "\n",
    "Input:\n",
    "\n",
    "my name is laxmi\n",
    "Output:\n",
    "\n",
    "laxmi is name my    "
   ]
  },
  {
   "cell_type": "code",
   "execution_count": 17,
   "id": "16da126a-f24d-40ed-935a-51345dcb156b",
   "metadata": {},
   "outputs": [
    {
     "name": "stdout",
     "output_type": "stream",
     "text": [
      "code practice quiz geeks\n"
     ]
    }
   ],
   "source": [
    "string = \"geeks quiz practice code\"\n",
    "\n",
    "s = string.split() [::-1]\n",
    "l = []\n",
    "for  i in s:\n",
    "    l.append(i)\n",
    "print(\" \".join(l))"
   ]
  },
  {
   "cell_type": "code",
   "execution_count": 23,
   "id": "ef0fe668-24b8-496b-8a59-cf1dd99adf0b",
   "metadata": {},
   "outputs": [
    {
     "name": "stdout",
     "output_type": "stream",
     "text": [
      "laxmi is name my\n"
     ]
    }
   ],
   "source": [
    "string = \"my name is laxmi\"\n",
    "\n",
    "s = string.split() [::-1]\n",
    "l = []\n",
    "for i in s:\n",
    "    l.append(i)\n",
    "print(\" \".join(l))\n"
   ]
  },
  {
   "cell_type": "markdown",
   "id": "ebb6c0c4-6d55-4573-b2ad-e99e330807ea",
   "metadata": {},
   "source": [
    "## Problem 18: Find uncommon words from two Strings.Statement: Given two sentences as strings A and B. The task is to return a list of all uncommon words. A word is uncommon if it appears exactly once in any one of the sentences, and does not appear in the other sentence. Note: A sentence is a string of space-separated words. Each word consists only of lowercase letters."
   ]
  },
  {
   "cell_type": "code",
   "execution_count": null,
   "id": "cb124cd1-6480-4a68-b18d-28193591fdd5",
   "metadata": {},
   "outputs": [],
   "source": [
    "Example 1:\n",
    "\n",
    "Input:\n",
    "\n",
    "A = \"apple banana mango\" \n",
    "B = \"banana fruits mango\"\n",
    "Output:\n",
    "\n",
    "['apple', 'fruits']"
   ]
  },
  {
   "cell_type": "code",
   "execution_count": 20,
   "id": "59249f36-f01b-44db-801e-c3e7b53256e6",
   "metadata": {},
   "outputs": [
    {
     "name": "stdout",
     "output_type": "stream",
     "text": [
      "['apple', 'fruits']\n"
     ]
    }
   ],
   "source": [
    "def UncommonWords(A, B):\n",
    "\n",
    "\tcount = {}\n",
    "\n",
    "\tfor word in A.split():\n",
    "\t\tcount[word] = count.get(word, 0) + 1\n",
    "\n",
    "\tfor word in B.split():\n",
    "\t\tcount[word] = count.get(word, 0) + 1\n",
    "\n",
    "\treturn [word for word in count if count[word] == 1]\n",
    "\n",
    "A = \"apple banana mango\"\n",
    "B = \"banana fruits mango\"\n",
    "\n",
    "print(UncommonWords(A, B))\n"
   ]
  },
  {
   "cell_type": "markdown",
   "id": "b1802d27-b016-4f13-9549-64cb41164472",
   "metadata": {},
   "source": [
    "## Problem 19: Word location in String.Statement: Find a location of a word in a given sentence."
   ]
  },
  {
   "cell_type": "code",
   "execution_count": null,
   "id": "4004d2d6-c9a6-4444-a45d-56b01f302b00",
   "metadata": {},
   "outputs": [],
   "source": [
    "Example 1:\n",
    "\n",
    "Input:\n",
    "\n",
    "Sentence: We can learn data science through campusx mentorship program.\n",
    "\n",
    "word: campusx\n",
    "Output:\n",
    "\n",
    "Location of the word is 7.\n",
    "Note- Don't use index/find functions\n",
    "\n"
   ]
  },
  {
   "cell_type": "code",
   "execution_count": 21,
   "id": "bb902d2c-d943-4f2f-8663-7ba03ea69a2f",
   "metadata": {},
   "outputs": [
    {
     "name": "stdout",
     "output_type": "stream",
     "text": [
      "The original string is : We can learn data science through campusx mentorship program\n",
      "The location of word is : 7\n"
     ]
    }
   ],
   "source": [
    "import re\n",
    "test_str = 'We can learn data science through campusx mentorship program'\n",
    "\n",
    "print(\"The original string is : \" + test_str)\n",
    " \n",
    "wrd = 'campusx'\n",
    "\n",
    "test_str = test_str.split()\n",
    "res = -1\n",
    "for idx in test_str:\n",
    "\tif len(re.findall(wrd, idx)) > 0:\n",
    "\t\tres = test_str.index(idx) + 1\n",
    "\n",
    "print(\"The location of word is : \" + str(res)) \n"
   ]
  },
  {
   "cell_type": "markdown",
   "id": "79e317b8-a0c1-408e-a253-709b2a5b0cb9",
   "metadata": {},
   "source": [
    "## Problem 20: Write a program that can remove all the duplicate characters from a string. User will provide the input.\n"
   ]
  },
  {
   "cell_type": "code",
   "execution_count": 22,
   "id": "5a1a337d-b903-4687-a37c-0ae1f4dbc04a",
   "metadata": {},
   "outputs": [
    {
     "name": "stdout",
     "output_type": "stream",
     "text": [
      "swetmori\n"
     ]
    }
   ],
   "source": [
    "string=\"sweetmemories\"\n",
    "p=\"\"\n",
    "for char in string:\n",
    "    if char not in p:\n",
    "        p=p+char\n",
    "print(p)\n",
    "k=list(\"sweetmemories\")\n"
   ]
  }
 ],
 "metadata": {
  "kernelspec": {
   "display_name": "Python 3 (ipykernel)",
   "language": "python",
   "name": "python3"
  },
  "language_info": {
   "codemirror_mode": {
    "name": "ipython",
    "version": 3
   },
   "file_extension": ".py",
   "mimetype": "text/x-python",
   "name": "python",
   "nbconvert_exporter": "python",
   "pygments_lexer": "ipython3",
   "version": "3.11.7"
  }
 },
 "nbformat": 4,
 "nbformat_minor": 5
}
